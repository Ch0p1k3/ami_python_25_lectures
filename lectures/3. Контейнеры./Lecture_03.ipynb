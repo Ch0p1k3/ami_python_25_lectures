{
  "nbformat": 4,
  "nbformat_minor": 0,
  "metadata": {
    "colab": {
      "provenance": []
    },
    "kernelspec": {
      "name": "python3",
      "display_name": "Python 3"
    },
    "language_info": {
      "name": "python"
    }
  },
  "cells": [
    {
      "cell_type": "markdown",
      "source": [
        "# Python-1, Лекция 3\n",
        "\n",
        "Лектор: Хайбулин Даниэль\n",
        "\n",
        "Подготовил материал: Хайбулин Даниэль"
      ],
      "metadata": {
        "id": "8y5Q2vP2l0X7"
      }
    },
    {
      "cell_type": "markdown",
      "source": [
        "## Множества"
      ],
      "metadata": {
        "id": "dxa__Uzkl6D9"
      }
    },
    {
      "cell_type": "markdown",
      "source": [
        "Скорее всего вы знаете, что такое множества, исходя из математики. Множество - это набор уникальных элементов.\n",
        "\n",
        "Ну и что же в этом уникального, спросите вы? Можно же просто просто хранить список. А вот нет, тогда мы будем сильно проигрывать по времени. Давайте попробуем что-нибудь:"
      ],
      "metadata": {
        "id": "FjWXX3hfmUE-"
      }
    },
    {
      "cell_type": "code",
      "execution_count": null,
      "metadata": {
        "id": "rjDejp-nlvX7"
      },
      "outputs": [],
      "source": [
        "a = [i for i in range(100000)]\n",
        "b = set(a)"
      ]
    },
    {
      "cell_type": "code",
      "source": [
        "%%time\n",
        "\n",
        "c = 10000\n",
        "if c not in a:\n",
        "    a.append(c)"
      ],
      "metadata": {
        "id": "crOsAtctoc_P"
      },
      "execution_count": null,
      "outputs": []
    },
    {
      "cell_type": "code",
      "source": [
        "%%time\n",
        "\n",
        "c = 10000\n",
        "if c not in b:\n",
        "    b.add(c)"
      ],
      "metadata": {
        "id": "5wUdkU3popLs"
      },
      "execution_count": null,
      "outputs": []
    },
    {
      "cell_type": "markdown",
      "source": [
        "### Операции"
      ],
      "metadata": {
        "id": "eljiFoRyIVpr"
      }
    },
    {
      "cell_type": "markdown",
      "source": [
        "Опа и пожалуйста, экономия времени! Как это получается? На самом деле ответ кроется в том, как хранит элементы множество и список (список хранит просто в раличных ячейках памяти элементы, множество же занимается хешированием)\n",
        "\n",
        "А наша задача, в первую очередь, это вообще понять, как с ними работать. Итак, поехали:"
      ],
      "metadata": {
        "id": "MSK31w6uo_au"
      }
    },
    {
      "cell_type": "markdown",
      "source": [
        "* s.add(elem) - добавить элемент во множество (если элемент уже есть, то ничего не изменится)\n",
        "\n",
        "* clear() - очистить множество\n",
        "\n",
        "* copy() - скопировать множество\n",
        "\n",
        "* s.discard(elem) / s.remove(elem) / s.pop() - разные методы удаления (первое - не ругнется, если попробовать убрать элемент не из множества, второй - ругнется, третий - просто вытаскивает рандомный элемент и возвращает его)\n",
        "\n",
        "* difference / difference_update() / - - разность\n",
        "\n",
        "* union() / | - объединение множеств\n",
        "\n",
        "* intersection() / & - пересечение множеств\n",
        "\n",
        "* issubset() / isdisjoint() / issuperset() - проверка на подмножество, наличие пересечений и проверка на супермножество (один находится в другом)\n",
        "\n",
        "* symmetric_difference / ^ - симметричная разность\n",
        "\n",
        "* len(s) - узнать число элементов во множестве\n",
        "\n",
        "* ==, <=, >= - проверки на равенство (поэлементно), является ли одно множество под(над)множеством другого\n",
        "\n",
        "Как можно заметить, можно использовать и операторы)"
      ],
      "metadata": {
        "id": "Rey23DlopqgS"
      }
    },
    {
      "cell_type": "markdown",
      "source": [
        "![](https://i.pinimg.com/originals/d3/59/3a/d3593ae3a7dbdccf9513d3aa5b608230.png)"
      ],
      "metadata": {
        "id": "Vy29pQMB-gCw"
      }
    },
    {
      "cell_type": "code",
      "source": [
        "a = {1, 2, 3, 5}\n",
        "b = {4, 5, 6}\n",
        "\n",
        "print(a.union(b), a | b)\n",
        "print(a.intersection(b), a & b)\n",
        "print(a.difference(b), a - b)\n",
        "print(a.symmetric_difference(b), a ^ b)"
      ],
      "metadata": {
        "id": "5j_PPmBLsyRM"
      },
      "execution_count": null,
      "outputs": []
    },
    {
      "cell_type": "markdown",
      "source": [
        "Есть такая штука, как difference_update. Как думаете, в чем разница?"
      ],
      "metadata": {
        "id": "cnnmDYxPtEiI"
      }
    },
    {
      "cell_type": "code",
      "source": [
        "print(a.difference(b), a)\n",
        "print(a.difference_update(b), a)"
      ],
      "metadata": {
        "id": "cAd-BBm2tKPj"
      },
      "execution_count": null,
      "outputs": []
    },
    {
      "cell_type": "markdown",
      "source": [
        "Сравнение множеств:"
      ],
      "metadata": {
        "id": "WNNvg73AINLG"
      }
    },
    {
      "cell_type": "code",
      "source": [
        "a = {1, 2}\n",
        "b = {1, 2, 3}\n",
        "\n",
        "# Подмножество\n",
        "a.issubset(b)  # True\n",
        "assert a <= b         # True\n",
        "\n",
        "# Собственное подмножество\n",
        "assert a < b          # True (a является подмножеством, но не равно b)\n",
        "\n",
        "# Надмножество\n",
        "b.issuperset(a)  # True\n",
        "assert b >= a           # True\n",
        "\n",
        "# Собственное надмножество\n",
        "assert b > a            # True"
      ],
      "metadata": {
        "id": "yaF1b-L0IM07"
      },
      "execution_count": null,
      "outputs": []
    },
    {
      "cell_type": "markdown",
      "source": [
        "Поиграемся с удалениями элементов:"
      ],
      "metadata": {
        "id": "G5wQ-6eNtULD"
      }
    },
    {
      "cell_type": "code",
      "source": [
        "a.discard(5)\n",
        "a.discard(5)\n",
        "a.remove(3)\n",
        "a.remove(3)"
      ],
      "metadata": {
        "id": "upsQVq4ltTuw"
      },
      "execution_count": null,
      "outputs": []
    },
    {
      "cell_type": "markdown",
      "source": [
        "Поиск внутри множества:"
      ],
      "metadata": {
        "id": "OZtZ_uSDH3df"
      }
    },
    {
      "cell_type": "code",
      "source": [
        "print(b)\n",
        "4 in b"
      ],
      "metadata": {
        "id": "oyEhbs0FH5IE"
      },
      "execution_count": null,
      "outputs": []
    },
    {
      "cell_type": "code",
      "source": [
        "while a:\n",
        "    print(a.pop())"
      ],
      "metadata": {
        "id": "0ion_mKAtfuk"
      },
      "execution_count": null,
      "outputs": []
    },
    {
      "cell_type": "markdown",
      "source": [
        "### Применение"
      ],
      "metadata": {
        "id": "qn8hMPYSIYKI"
      }
    },
    {
      "cell_type": "code",
      "source": [
        "# Самый эффективный способ удаления дубликатов\n",
        "items = [1, 2, 3, 2, 1, 4, 5]\n",
        "unique = list(set(items))\n",
        "assert unique == [1, 2, 3, 4, 5]"
      ],
      "metadata": {
        "id": "WfVu044wI0XI"
      },
      "execution_count": null,
      "outputs": []
    },
    {
      "cell_type": "code",
      "source": [
        "# Быстрая фильтрация с использованием множеств\n",
        "all_items = [1, 2, 3, 4, 5, 6, 7, 8, 9]\n",
        "valid_items = {2, 4, 6, 8}\n",
        "\n",
        "filtered = [item for item in all_items if item in valid_items]\n",
        "assert filtered == [2, 4, 6, 8]"
      ],
      "metadata": {
        "id": "sVP8EBHVI4Di"
      },
      "execution_count": null,
      "outputs": []
    },
    {
      "cell_type": "code",
      "source": [
        "# Эффективный поиск общих элементов в нескольких коллекциях\n",
        "list1 = [1, 2, 3, 4, 5]\n",
        "list2 = [4, 5, 6, 7, 8]\n",
        "list3 = [5, 6, 7, 8, 9]\n",
        "\n",
        "common = set(list1) & set(list2) & set(list3)\n",
        "assert common == {5}"
      ],
      "metadata": {
        "id": "qMd3x7iSI_ex"
      },
      "execution_count": null,
      "outputs": []
    },
    {
      "cell_type": "code",
      "source": [
        "import random\n",
        "\n",
        "# Создаем список со множеством дубликатов\n",
        "data = [random.randint(0, 100) for _ in range(1000)]\n",
        "\n",
        "# Сравниваем подходы\n",
        "%timeit list(set(data))              # Самый быстрый\n",
        "%timeit list(dict.fromkeys(data))    # Сохраняет порядок, но медленнее\n",
        "%timeit sorted(set(data), key=data.index)  # Сохраняет порядок, очень медленно"
      ],
      "metadata": {
        "id": "VpiTMWQMJJha"
      },
      "execution_count": null,
      "outputs": []
    },
    {
      "cell_type": "code",
      "source": [
        "# Пустое множество ложно в булевом контексте\n",
        "s = set()\n",
        "if not s:\n",
        "    print(\"Множество пустое\")  # Выполнится\n",
        "\n",
        "# Непустое множество истинно\n",
        "s = {1, 2, 3}\n",
        "if s:\n",
        "    print(\"Множество не пустое\")  # Выполнится"
      ],
      "metadata": {
        "id": "Ws4GpG_gJfkp"
      },
      "execution_count": null,
      "outputs": []
    },
    {
      "cell_type": "code",
      "source": [
        "# Аналогично списковым включениям\n",
        "squares = {x**2 for x in range(10)}\n",
        "assert squares == {0, 1, 4, 9, 16, 25, 36, 49, 64, 81}\n",
        "\n",
        "# С условием\n",
        "even_squares = {x**2 for x in range(10) if x % 2 == 0}\n",
        "assert even_squares == {0, 4, 16, 36, 64}"
      ],
      "metadata": {
        "id": "CRizF39TMrXm"
      },
      "execution_count": null,
      "outputs": []
    },
    {
      "cell_type": "markdown",
      "source": [
        "### Set Comprehensions"
      ],
      "metadata": {
        "id": "7A3c4JOa0ozK"
      }
    },
    {
      "cell_type": "markdown",
      "source": [
        "Например, хотим положить в множество все символы, в названии которых присутствует SIGN. Можно сделать это не очень красивым способом:"
      ],
      "metadata": {
        "id": "kWs3paBR13BF"
      }
    },
    {
      "cell_type": "code",
      "source": [
        "from unicodedata import name\n",
        "\n",
        "s = set()\n",
        "\n",
        "for i in range(32, 256):\n",
        "    if 'SIGN' in name(chr(i), ''):\n",
        "        s.add(chr(i))\n",
        "s"
      ],
      "metadata": {
        "id": "HCmbr1aa1i16"
      },
      "execution_count": null,
      "outputs": []
    },
    {
      "cell_type": "markdown",
      "source": [
        "Однако, в питоне принято конструировать объекты с использованием comprehensions:"
      ],
      "metadata": {
        "id": "60TOJBUS2A9h"
      }
    },
    {
      "cell_type": "code",
      "source": [
        "from unicodedata import name\n",
        "\n",
        "sd = {chr(i) for i in range(32, 256) if 'SIGN' in name(chr(i),'')}\n",
        "sd"
      ],
      "metadata": {
        "id": "YvrY8HhS1TVR"
      },
      "execution_count": null,
      "outputs": []
    },
    {
      "cell_type": "markdown",
      "source": [
        "Конечно, поначалу такой способ может показаться сложнее и неудобочитаемым, но со временем раскрывается его красота и удобство. Рекомендую сразу стараться писать таким образом."
      ],
      "metadata": {
        "id": "q_Qjwr5O2IY2"
      }
    },
    {
      "cell_type": "markdown",
      "source": [
        "### Хешируемость"
      ],
      "metadata": {
        "id": "YzvAkN7_0vfs"
      }
    },
    {
      "cell_type": "code",
      "source": [
        "a.add([15,20]) # упс, а почему так нельзя?"
      ],
      "metadata": {
        "id": "0uI-W9YqtjnX"
      },
      "execution_count": null,
      "outputs": []
    },
    {
      "cell_type": "markdown",
      "source": [
        "Тут мы сталкиваемся с той проблемой, что есть хешируемые и нехешируемые объекты. Что же такое хешируемый объект? Это объект, от которого можно взять хеш - тут можно сказать, что объект должен быть неизменяемым, чтобы хеш-функция всегда выдавала одно значение. Кроме этого объект обязательно должен быть сравнимым - этот аспект подробнее рассмотрите на курсе алгоритмов и структур данных когда будете разбирать внутреннее устройство хеш-таблицы.\n",
        "\n",
        "Ну хорошо, как же тогда быть? Использовать хешируемые объекты, например: кортеж, frozenset."
      ],
      "metadata": {
        "id": "0gZegHentq-y"
      }
    },
    {
      "cell_type": "markdown",
      "source": [
        "От кортежа можно получить хеш, соответственно он может быть ключом в множестве:"
      ],
      "metadata": {
        "id": "vXw8nuWQsMTS"
      }
    },
    {
      "cell_type": "code",
      "source": [
        "t = (1, 2, (3, 4))\n",
        "hash(t)"
      ],
      "metadata": {
        "id": "Jbi1kzQZsGQn"
      },
      "execution_count": null,
      "outputs": []
    },
    {
      "cell_type": "markdown",
      "source": [
        "Но тут нужно быть внимательными, например:"
      ],
      "metadata": {
        "id": "4si_MSk_s3cN"
      }
    },
    {
      "cell_type": "code",
      "source": [
        "t = (1, 2, [3, 4])\n",
        "hash(t)"
      ],
      "metadata": {
        "id": "fLrtNU0cs6SN"
      },
      "execution_count": null,
      "outputs": []
    },
    {
      "cell_type": "markdown",
      "source": [
        "Почему так? Потому что список - изменяемый объект внутри кортежа.\n",
        "\n",
        "Важно понимать, что хеш-функция - некоторое сочетание хешей вложенных объектов. То есть, чтобы получить хеш от кортежа нужно получить хеш от всего, что в него вложено. Тут то и возникает проблема с тем, что мы не можем получить хеш у списка, так как это изменяемый объект, или, корректнее говоря, у списка отсутствует метод __hash__."
      ],
      "metadata": {
        "id": "B-hu9HYws_og"
      }
    },
    {
      "cell_type": "code",
      "source": [
        "a.add((15, 20))\n",
        "a"
      ],
      "metadata": {
        "id": "CpLkx6M2uQjB"
      },
      "execution_count": null,
      "outputs": []
    },
    {
      "cell_type": "code",
      "source": [
        "a.add(frozenset({15, 20}))\n",
        "a"
      ],
      "metadata": {
        "id": "tzUwCA6Qr-Oo"
      },
      "execution_count": null,
      "outputs": []
    },
    {
      "cell_type": "markdown",
      "source": [
        "А вот если положить список в замороженное множество, то можем спокойно брать хеш."
      ],
      "metadata": {
        "id": "7QPRi5H5tiBG"
      }
    },
    {
      "cell_type": "code",
      "source": [
        "t = (1, 2, frozenset([3, 4]))\n",
        "hash(t)"
      ],
      "metadata": {
        "id": "gJcuCuu4td_S"
      },
      "execution_count": null,
      "outputs": []
    },
    {
      "cell_type": "markdown",
      "source": [
        "### Оптимизации"
      ],
      "metadata": {
        "id": "okB-mLro0zIj"
      }
    },
    {
      "cell_type": "markdown",
      "source": [
        "Давайте еще посмотрим на то в чем разница между различными способами инициализации множества:"
      ],
      "metadata": {
        "id": "kf7fzfs6M8AF"
      }
    },
    {
      "cell_type": "code",
      "source": [
        "from dis import dis\n",
        "\n",
        "dis('{1}')"
      ],
      "metadata": {
        "id": "rmhMA8mANAyJ"
      },
      "execution_count": null,
      "outputs": []
    },
    {
      "cell_type": "code",
      "source": [
        "from dis import dis\n",
        "\n",
        "dis('set({1})')"
      ],
      "metadata": {
        "id": "JHecbcJUNEwT"
      },
      "execution_count": null,
      "outputs": []
    },
    {
      "cell_type": "markdown",
      "source": [
        "Отсюда видно, что лучше всегда создавать множество без приписки set(), чтобы не тратить время на лишние четыре действия."
      ],
      "metadata": {
        "id": "JJw5ldgTNG74"
      }
    },
    {
      "cell_type": "markdown",
      "source": [
        "## Словари"
      ],
      "metadata": {
        "id": "8Om1iSgAl76q"
      }
    },
    {
      "cell_type": "markdown",
      "source": [
        "### Создание"
      ],
      "metadata": {
        "id": "dmZ2fzklC_-V"
      }
    },
    {
      "cell_type": "markdown",
      "source": [
        "Ну хорошо, у нас есть множества, давайте пойдем чуть дальше. Допустим, что мы хотим иметь не просто множество, а еще уметь и считать, сколько раз тот или иной элемент встретился!\n",
        "\n",
        "Можно ответить про Counter, конечно, но про это мы позже поговорим тоже, а сейчас давайте про уже встроенные методы. То есть что бы нам хотелось? Хранить некоторую пару \"key\" - \"value\" (в нашем случае сколько раз встретилось)\n",
        "\n",
        "Вот для этого и подходят словари! (почему словарь - аналогия с переводом)\n",
        "Давайте создавать!"
      ],
      "metadata": {
        "id": "j0qa_qhjl9Mb"
      }
    },
    {
      "cell_type": "code",
      "source": [
        "a = dict(one=1, two=2, three=3)\n",
        "b = {'one': 1, 'two': 2, 'three': 3}\n",
        "c = dict(zip(['one', 'two', 'three'], [1, 2, 3]))\n",
        "d = dict([('two', 2), ('one', 1), ('three', 3)])\n",
        "e = dict({'three': 3, 'one': 1, 'two': 2})\n",
        "print(c)\n",
        "a == b == c == d == e"
      ],
      "metadata": {
        "id": "DnI9IM0eDNZS"
      },
      "execution_count": null,
      "outputs": []
    },
    {
      "cell_type": "markdown",
      "source": [
        "Рассмотрим подробнее создание с использованием функции zip:"
      ],
      "metadata": {
        "id": "SzI0QZJBwNN9"
      }
    },
    {
      "cell_type": "code",
      "source": [
        "c = dict(zip(['one', 'two', 'three'], [1, 2, 3]))\n",
        "c"
      ],
      "metadata": {
        "id": "99RF6Ss_wQlV"
      },
      "execution_count": null,
      "outputs": []
    },
    {
      "cell_type": "markdown",
      "source": [
        "zip попарно соединяет два итерируемых объекта (про это будем говорить на другой лекции)."
      ],
      "metadata": {
        "id": "D47hNyS0wTQM"
      }
    },
    {
      "cell_type": "code",
      "source": [
        "type(zip(['one', 'two', 'three'], [1, 2, 3]))"
      ],
      "metadata": {
        "id": "IUfjby1-woqT"
      },
      "execution_count": null,
      "outputs": []
    },
    {
      "cell_type": "code",
      "source": [
        "list(zip(['one', 'two', 'three'], [1, 2, 3])) == [('one', 1), ('two', 2), ('three', 3)]"
      ],
      "metadata": {
        "id": "DZwlcJ92wcJW"
      },
      "execution_count": null,
      "outputs": []
    },
    {
      "cell_type": "markdown",
      "source": [
        "### Хешируемые ключи"
      ],
      "metadata": {
        "id": "C1rF5MKuDB-W"
      }
    },
    {
      "cell_type": "markdown",
      "source": [
        "Еще раз про хешируемость, но теперь в словарях:"
      ],
      "metadata": {
        "id": "UM-Wl330Cvn4"
      }
    },
    {
      "cell_type": "code",
      "source": [
        "# Хешируемые ключи\n",
        "d = {\n",
        "    1: 'int',\n",
        "    'a': 'str',\n",
        "    (1, 2): 'tuple',  # Только если элементы кортежа хешируемы\n",
        "    frozenset([1, 2]): 'frozenset'\n",
        "}\n",
        "\n",
        "# Нехешируемые ключи (вызовут TypeError)\n",
        "d = {\n",
        "    [1, 2]: 'list',  # Ошибка!\n",
        "    {1, 2}: 'set',   # Ошибка!\n",
        "    {'a': 1}: 'dict' # Ошибка!\n",
        "}"
      ],
      "metadata": {
        "collapsed": true,
        "id": "s4paPybcCxi0"
      },
      "execution_count": null,
      "outputs": []
    },
    {
      "cell_type": "markdown",
      "source": [
        "### Итерация по словарю"
      ],
      "metadata": {
        "id": "qvN7K1LuDGAN"
      }
    },
    {
      "cell_type": "markdown",
      "source": [
        "Все, что находится слева (до двоеточия) - это ключи (или же keys), все, что после - это значения (или же values)"
      ],
      "metadata": {
        "id": "T1v9kuA0DeJx"
      }
    },
    {
      "cell_type": "code",
      "source": [
        "print(e.keys(), e.values(), e.items())"
      ],
      "metadata": {
        "id": "GveiZeqgDmbk"
      },
      "execution_count": null,
      "outputs": []
    },
    {
      "cell_type": "markdown",
      "source": [
        "Итерация по словарю:"
      ],
      "metadata": {
        "id": "vC63QN_XCh2-"
      }
    },
    {
      "cell_type": "code",
      "source": [
        "# По умолчанию итерация идет по ключам\n",
        "for key in d:\n",
        "    print(key, d[key])\n",
        "\n",
        "# Явное указание\n",
        "for key in d.keys():\n",
        "    print(key)\n",
        "\n",
        "for value in d.values():\n",
        "    print(value)\n",
        "\n",
        "for key, value in d.items():  # Самый эффективный способ\n",
        "    print(key, value)"
      ],
      "metadata": {
        "id": "y3cLnkEPCi9b"
      },
      "execution_count": null,
      "outputs": []
    },
    {
      "cell_type": "markdown",
      "source": [
        "### Функциональность"
      ],
      "metadata": {
        "id": "OMavET8qDKR8"
      }
    },
    {
      "cell_type": "markdown",
      "source": [
        "Как обращаться по ключу? Абсолютно точно также, как и в списке (можно считать, будто это индексы):"
      ],
      "metadata": {
        "id": "qXD2B436LE38"
      }
    },
    {
      "cell_type": "code",
      "source": [
        "e['one']"
      ],
      "metadata": {
        "id": "cFTSDgjwLMZ3"
      },
      "execution_count": null,
      "outputs": []
    },
    {
      "cell_type": "markdown",
      "source": [
        "Но потом мы попробовали вот так:"
      ],
      "metadata": {
        "id": "hEShj_o2LP0b"
      }
    },
    {
      "cell_type": "code",
      "source": [
        "e['four']"
      ],
      "metadata": {
        "id": "k1W5X1fCLRw8"
      },
      "execution_count": null,
      "outputs": []
    },
    {
      "cell_type": "markdown",
      "source": [
        "И получили ошибку, что же делать? Для этого есть более \"безопасный\" вариант: get()"
      ],
      "metadata": {
        "id": "BwawQG1nLTIw"
      }
    },
    {
      "cell_type": "code",
      "source": [
        "print(e.get('four'))\n",
        "print(e.get('four', 5))"
      ],
      "metadata": {
        "id": "jYNw4kt5LZWu"
      },
      "execution_count": null,
      "outputs": []
    },
    {
      "cell_type": "markdown",
      "source": [
        "Что может быть в качестве значения? На самом деле что угодно!\n",
        "\n",
        "Что может быть в качестве ключей? Только хешируемые объекты."
      ],
      "metadata": {
        "id": "H4jgBDeoLsAT"
      }
    },
    {
      "cell_type": "code",
      "source": [
        "a = {\"abc\": set([1,2,3])}\n",
        "a"
      ],
      "metadata": {
        "id": "eNUFhYv1LxxI"
      },
      "execution_count": null,
      "outputs": []
    },
    {
      "cell_type": "markdown",
      "source": [
        "Ну хорошо, создавать от руки мы умеем. А как теперь добавлять/удалять и так далее, что мы вообще можем делать со словарем?\n",
        "\n"
      ],
      "metadata": {
        "id": "NHUllYNKL54z"
      }
    },
    {
      "cell_type": "code",
      "source": [
        "e['four'] = 100\n",
        "e['one'] += 1\n",
        "print(e)"
      ],
      "metadata": {
        "id": "YcxE52x5MRQX"
      },
      "execution_count": null,
      "outputs": []
    },
    {
      "cell_type": "markdown",
      "source": [
        "* e.pop(elem) - удалить ключ и вернуть по нему значение\n",
        "\n",
        "* e.popitem() - удали рандомный элемент и верни ключ-значение удаленного\n",
        "\n",
        "* e.clear() - очистить словарь\n",
        "\n",
        "* len(e) - число элементов\n",
        "\n",
        "* e.setdefault(key, value) - поставь значение по ключу, если его нет, то поставь value"
      ],
      "metadata": {
        "id": "0WLRBamyRCI6"
      }
    },
    {
      "cell_type": "code",
      "source": [
        "e.pop('four')\n",
        "print(e.popitem())\n",
        "print(len(e))\n",
        "print(e.setdefault('four', 10000))\n",
        "print(e)"
      ],
      "metadata": {
        "id": "UsVyTCb7RgaE"
      },
      "execution_count": null,
      "outputs": []
    },
    {
      "cell_type": "markdown",
      "source": [
        "Словарь можно обновлять через **update**:"
      ],
      "metadata": {
        "id": "N2lQHlQrA6_Y"
      }
    },
    {
      "cell_type": "code",
      "source": [
        "e.update({'c': 3, 'd': 4})  # Может принимать другой словарь\n",
        "e.update([('e', 5), ('f', 6)])  # Или список кортежей\n",
        "\n",
        "print(e)"
      ],
      "metadata": {
        "id": "-P1ZuMNTA-ME"
      },
      "execution_count": null,
      "outputs": []
    },
    {
      "cell_type": "markdown",
      "source": [
        "Конечно основное применение словаря - это поиск внутри него. Для этого в питоне есть ключевое слово **in**:"
      ],
      "metadata": {
        "id": "ao2ckx9Nw1Np"
      }
    },
    {
      "cell_type": "code",
      "source": [
        "('five' in e) == False"
      ],
      "metadata": {
        "id": "Tkq3XWVlw9B9"
      },
      "execution_count": null,
      "outputs": []
    },
    {
      "cell_type": "code",
      "source": [
        "('one' in e) == True"
      ],
      "metadata": {
        "id": "urqoZCudxDYl"
      },
      "execution_count": null,
      "outputs": []
    },
    {
      "cell_type": "code",
      "source": [
        "e.clear()\n",
        "e"
      ],
      "metadata": {
        "id": "Di3vId6_R7vq"
      },
      "execution_count": null,
      "outputs": []
    },
    {
      "cell_type": "markdown",
      "source": [
        "Также можно сливать словари воедино:"
      ],
      "metadata": {
        "id": "418u9FEMDNxj"
      }
    },
    {
      "cell_type": "code",
      "source": [
        "d1 = {'a': 1, 'b': 2}\n",
        "d2 = {'b': 3, 'c': 4}\n",
        "\n",
        "# Новый словарь (приоритет у последнего)\n",
        "assert {**d1, **d2} ==  {'a': 1, 'b': 3, 'c': 4}\n",
        "\n",
        "# С дополнительными значениями\n",
        "assert {**d1, 'd': 5, **d2} == {'a': 1, 'b': 3, 'd': 5, 'c': 4}"
      ],
      "metadata": {
        "id": "Q9ioBYaODP6D"
      },
      "execution_count": null,
      "outputs": []
    },
    {
      "cell_type": "markdown",
      "source": [
        "### Dict Comprehensions"
      ],
      "metadata": {
        "id": "dNOPQtj_xblN"
      }
    },
    {
      "cell_type": "markdown",
      "source": [
        "Вообще, в питоне есть очень удобные способы создавать объекты. Посмотрим быстренько на dict comprehensions:"
      ],
      "metadata": {
        "id": "MtzBF9Nfxe0b"
      }
    },
    {
      "cell_type": "code",
      "source": [
        "capitals = [\n",
        "    ('Russia', 'Moscow'),\n",
        "    ('USA', 'Washington'),\n",
        "    ('China', 'Beijing'),\n",
        "]\n",
        "\n",
        "d = {country: capital.upper() for country, capital in capitals} # это dict comprehensions\n",
        "d"
      ],
      "metadata": {
        "id": "b5wNZ_9-xogZ"
      },
      "execution_count": null,
      "outputs": []
    },
    {
      "cell_type": "markdown",
      "source": [
        "Способ менее изящный и нерекомендуемый:"
      ],
      "metadata": {
        "id": "dcbO1LlKyHH3"
      }
    },
    {
      "cell_type": "code",
      "source": [
        "d = {}\n",
        "for country, capital in capitals:\n",
        "    d[country] = capital.upper()\n",
        "d"
      ],
      "metadata": {
        "id": "za2E8U35yGom"
      },
      "execution_count": null,
      "outputs": []
    },
    {
      "cell_type": "markdown",
      "source": [
        "Можно удобно фильтровать внутри структуры создания словаря:"
      ],
      "metadata": {
        "id": "co8-3vRzybFJ"
      }
    },
    {
      "cell_type": "code",
      "source": [
        "d = {country: capital.upper() for country, capital in capitals if len(capital) < 8} # это dict comprehensions\n",
        "d"
      ],
      "metadata": {
        "id": "8pG3GPpByeRE"
      },
      "execution_count": null,
      "outputs": []
    },
    {
      "cell_type": "markdown",
      "source": [
        "### Порядок ключей"
      ],
      "metadata": {
        "id": "EoUuNnWB5z4l"
      }
    },
    {
      "cell_type": "code",
      "source": [
        "DIAL_CODES = [\n",
        "    (86, 'China'),\n",
        "    (91, 'India'),\n",
        "    (1, 'United States'),\n",
        "    (62, 'Indonesia'),\n",
        "    (55, 'Brazil'),\n",
        "    (92, 'Pakistan'),\n",
        "    (880, 'Bangladesh'),\n",
        "    (234, 'Nigeria'),\n",
        "    (7, 'Russia'),\n",
        "    (81, 'Japan'),\n",
        "]"
      ],
      "metadata": {
        "id": "y--GBxSi51i_"
      },
      "execution_count": null,
      "outputs": []
    },
    {
      "cell_type": "markdown",
      "source": [
        "Сперва сложим в словарь все как есть:"
      ],
      "metadata": {
        "id": "-C0Sfw2V6Gb_"
      }
    },
    {
      "cell_type": "code",
      "source": [
        "d1 = dict(DIAL_CODES)\n",
        "print('d1:', d1.keys())"
      ],
      "metadata": {
        "id": "f2fwE6rs57je"
      },
      "execution_count": null,
      "outputs": []
    },
    {
      "cell_type": "markdown",
      "source": [
        "Теперь попробуем посортировать по коду:"
      ],
      "metadata": {
        "id": "9T5WJeOz6Ihg"
      }
    },
    {
      "cell_type": "code",
      "source": [
        "d2 = dict(sorted(DIAL_CODES))\n",
        "print(f\"d2: {d2.keys()}\")"
      ],
      "metadata": {
        "id": "gNRvUmCA6FM1"
      },
      "execution_count": null,
      "outputs": []
    },
    {
      "cell_type": "markdown",
      "source": [
        "Теперь попробуем посортировать по названию страны:"
      ],
      "metadata": {
        "id": "ZsNGPsNT6pa-"
      }
    },
    {
      "cell_type": "code",
      "source": [
        "d3 = dict(sorted(DIAL_CODES, key=lambda x:x[1]))\n",
        "print('d3:', d3.keys())"
      ],
      "metadata": {
        "id": "bmAtkfhj6mLK"
      },
      "execution_count": null,
      "outputs": []
    },
    {
      "cell_type": "code",
      "source": [
        "assert d1 == d2 == d3"
      ],
      "metadata": {
        "id": "RrO_QKC_6wU4"
      },
      "execution_count": null,
      "outputs": []
    },
    {
      "cell_type": "markdown",
      "source": [
        "При этом все эти словари считаются равными, но ключи в них лежат в различном порядке:"
      ],
      "metadata": {
        "id": "A2emHrvm64am"
      }
    },
    {
      "cell_type": "code",
      "source": [
        "print(\"Без упорядочивания:\")\n",
        "for k, v in d1.items():\n",
        "    print(f\"({k}, {v})\", end=' ')\n",
        "\n",
        "print(\"\\nС сортировкой по кодам:\")\n",
        "for k, v in d2.items():\n",
        "    print(f\"({k}, {v})\", end=' ')\n",
        "\n",
        "print(\"\\nС сортировкой по названиям стран:\")\n",
        "for k, v in d3.items():\n",
        "    print(f\"({k}, {v})\", end=' ')"
      ],
      "metadata": {
        "id": "LBypL0Fq65Ce"
      },
      "execution_count": null,
      "outputs": []
    },
    {
      "cell_type": "markdown",
      "source": [
        "Какой вывод из этого можно сделать? Не стоит завязывать какую-либо логику на порядок ключей в словаре."
      ],
      "metadata": {
        "id": "HiC3bf-K7UMm"
      }
    }
  ]
}