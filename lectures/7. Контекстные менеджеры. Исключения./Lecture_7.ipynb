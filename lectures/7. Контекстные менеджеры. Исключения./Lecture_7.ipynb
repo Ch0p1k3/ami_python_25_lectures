{
 "cells": [
  {
   "cell_type": "markdown",
   "id": "19a0aeac",
   "metadata": {},
   "source": [
    "# Python-1, Лекция 7\n",
    "\n",
    "Лектор: Хайбулин Даниэль\n",
    "\n",
    "Подготовил материал: Лущ Иван"
   ]
  },
  {
   "cell_type": "markdown",
   "id": "6fe64bd5",
   "metadata": {},
   "source": [
    "Итак, сегодня мы поговорим про **исключения** и **контекстные менеджеры**."
   ]
  },
  {
   "cell_type": "markdown",
   "id": "85793c5c",
   "metadata": {},
   "source": [
    "### Исключения"
   ]
  },
  {
   "cell_type": "markdown",
   "id": "a31e619a",
   "metadata": {},
   "source": [
    "Обработка ошибок — одна из наиболее дискуссионных тем в программировании. Можно сказать, что вокруг подходов к организации работы с ошибками во время выполнения программы формируются «религии» среди программистов."
   ]
  },
  {
   "cell_type": "markdown",
   "id": "874afd56",
   "metadata": {},
   "source": [
    "Давайте рассмотрим ситуацию, в которой будет ошибка из-за попытки открытия несуществующего файла:"
   ]
  },
  {
   "cell_type": "code",
   "execution_count": null,
   "id": "d3ef12e8",
   "metadata": {},
   "outputs": [],
   "source": [
    "with open(\"non_existent_file.txt\", \"r\") as f:\n",
    "    ..."
   ]
  },
  {
   "cell_type": "markdown",
   "id": "7720cab4",
   "metadata": {},
   "source": [
    "В различных языках программирования и парадигмах вопросы обработки ошибок решаются по-разному. Наиболее распространённые подходы включают:\n",
    "\n",
    "— использование кодов возврата (**return codes**) в языке `C`, когда функция сообщает об ошибке через специальное возвращаемое значение,\n",
    "\n",
    "— введение специального типа (`Result` в `Rust`, `error` в `Go`, `std::expected` в `C++`) и сопутствующих конструкций для его обработки (например, `match` в `Rust`),\n",
    "\n",
    "— применение механизма **исключений** (`exceptions`) в таких языках, как `Python`, `Java`, `C++`,\n",
    "\n",
    "Подход к обработке ошибок оказывает существенное влияние и на стиль программирования (идиомы), и на удобство сопровождения программного кода, и на безопасность исполнения."
   ]
  },
  {
   "cell_type": "markdown",
   "id": "ac38e452",
   "metadata": {},
   "source": [
    "Рассмотрим дополнительные примеры возникновений исключений:"
   ]
  },
  {
   "cell_type": "code",
   "execution_count": null,
   "id": "ff754dac",
   "metadata": {},
   "outputs": [],
   "source": [
    "1 / 0"
   ]
  },
  {
   "cell_type": "code",
   "execution_count": null,
   "id": "02b13a03",
   "metadata": {},
   "outputs": [],
   "source": [
    "int(\"not a number\")"
   ]
  },
  {
   "cell_type": "code",
   "execution_count": null,
   "id": "0b29cf47",
   "metadata": {},
   "outputs": [],
   "source": [
    "print(not_defined_variable)"
   ]
  },
  {
   "cell_type": "code",
   "execution_count": null,
   "id": "f79a43fe",
   "metadata": {},
   "outputs": [],
   "source": [
    "[0] * 1_000_000_000_000_000_000"
   ]
  },
  {
   "cell_type": "markdown",
   "id": "cb3f7758",
   "metadata": {},
   "source": [
    "В `Python` для перехвата исключений используется конструкция `try...except`:"
   ]
  },
  {
   "cell_type": "code",
   "execution_count": null,
   "id": "0dd0bd14",
   "metadata": {},
   "outputs": [],
   "source": [
    "try:\n",
    "    ... # код, который может вызвать исключение\n",
    "except Exception:\n",
    "    ... # обработка исключения"
   ]
  },
  {
   "cell_type": "markdown",
   "id": "7613bcc2",
   "metadata": {},
   "source": [
    "Перехват исключений позволяет:\n",
    "\n",
    "- Не прерывать работу программы при возникновении ошибки.\n",
    "- Корректно реагировать на разные типы ошибок.\n",
    "- Выдавать понятные сообщения, делать повторные попытки и т.д.\n",
    "\n",
    "К примеру:"
   ]
  },
  {
   "cell_type": "code",
   "execution_count": null,
   "id": "7b904a88",
   "metadata": {},
   "outputs": [],
   "source": [
    "try:\n",
    "    x = 1 / 0\n",
    "except ZeroDivisionError:\n",
    "    print(\"Нельзя делить на ноль!\")"
   ]
  },
  {
   "cell_type": "markdown",
   "id": "5cc23246",
   "metadata": {},
   "source": [
    "Можно обрабатывать несколько типов исключений:"
   ]
  },
  {
   "cell_type": "code",
   "execution_count": null,
   "id": "e5cb4e40",
   "metadata": {},
   "outputs": [],
   "source": [
    "try:\n",
    "    s = input(\"Введите число: \")\n",
    "    n = int(s)\n",
    "    print(10 / n)\n",
    "except ValueError:\n",
    "    print(\"Это не число!\")\n",
    "except ZeroDivisionError:\n",
    "    print(\"Вы ввели ноль, деление невозможно.\")"
   ]
  },
  {
   "cell_type": "markdown",
   "id": "2b6121cf",
   "metadata": {},
   "source": [
    "Можно перехватывать сразу несколько исключений, указав их в круглых скобках в виде кортежа (`tuple`) в блоке `except`:"
   ]
  },
  {
   "cell_type": "code",
   "execution_count": null,
   "id": "96590ce9",
   "metadata": {},
   "outputs": [],
   "source": [
    "import typing as tp\n",
    "\n",
    "\n",
    "def add_numbers(a: tp.Any, b: tp.Any) -> float:\n",
    "    try:\n",
    "        return float(a) + float(b)\n",
    "    except (ValueError, TypeError) as err:\n",
    "        print(\"Ошибка значения или типа:\", err)\n",
    "        return None\n",
    "\n",
    "\n",
    "print(add_numbers(\"10\", \"5.5\"))\n",
    "print(add_numbers(\"abc\", \"3\"))\n",
    "print(add_numbers([1, 2], \"3\"))"
   ]
  },
  {
   "cell_type": "markdown",
   "id": "f97ec921",
   "metadata": {},
   "source": [
    "Иногда бывает удобно перехватить сразу все «обычные» исключения (унаследованные от `Exception`), чтобы вывести ошибку пользователю (например, в пользовательском интерфейсе или логе), не прерывая всю программу аварийно:"
   ]
  },
  {
   "cell_type": "code",
   "execution_count": null,
   "id": "539b3342",
   "metadata": {},
   "outputs": [],
   "source": [
    "# вспомогательный код для следующей ячейки\n",
    "with open(\"positive.txt\", \"w\") as f:\n",
    "    print(5, file=f)\n",
    "\n",
    "\n",
    "with open(\"zero.txt\", \"w\") as f:\n",
    "    print(0, file=f)\n",
    "\n",
    "\n",
    "with open(\"text.txt\", \"w\") as f:\n",
    "    print(\"text\", file=f)"
   ]
  },
  {
   "cell_type": "code",
   "execution_count": null,
   "id": "a798f4e5",
   "metadata": {},
   "outputs": [],
   "source": [
    "def main() -> None:\n",
    "    # Попробуйте ввести:\n",
    "    # - positive.txt\n",
    "    # - zero.txt\n",
    "    # - text.txt\n",
    "    # - non_existent_file.txt\n",
    "    filename = input(\"Введите имя файла с числом: \")\n",
    "\n",
    "    try:\n",
    "        with open(filename) as f:\n",
    "            num = int(f.read().strip())\n",
    "        result = 100 / num\n",
    "    except Exception as exc:\n",
    "        print(\"Что-то пошло не так:\", exc)\n",
    "        return\n",
    "\n",
    "    print(\"Результат деления 100 на\", num, \"равен\", result)\n",
    "\n",
    "\n",
    "if __name__ == \"__main__\":\n",
    "    main()"
   ]
  },
  {
   "cell_type": "markdown",
   "id": "4d3c2887",
   "metadata": {},
   "source": [
    "В конструкции `try...except` можно также использовать дополнительные блоки `else` и `finally`, чтобы более гибко управлять поведением программы в зависимости от наличия или отсутствия ошибок.\n",
    "\n",
    "\n",
    "- Блок `else` срабатывает только если в блоке `try` не возникло исключения.\n",
    "- Блок `finally` выполняется в любом случае: была ошибка или нет (например, для освобождения ресурсов).\n"
   ]
  },
  {
   "cell_type": "code",
   "execution_count": null,
   "id": "9d408819",
   "metadata": {},
   "outputs": [],
   "source": [
    "# вспомогательный код для следующей ячейки\n",
    "with open(\"data.txt\", \"w\") as f:\n",
    "    print(\"I hate exceptions\", file=f)"
   ]
  },
  {
   "cell_type": "code",
   "execution_count": null,
   "id": "a6fa0f37",
   "metadata": {},
   "outputs": [],
   "source": [
    "def main() -> None:\n",
    "    # Попробуйте ввести:\n",
    "    # - data.txt\n",
    "    # - non_existent_file.txt\n",
    "    filename = input()\n",
    "\n",
    "    try:\n",
    "        file = open(filename)\n",
    "    except FileNotFoundError:\n",
    "        print(\"Файл не найден.\")\n",
    "    else:\n",
    "        print(\"Файл успешно открыт!\")\n",
    "        # Здесь можно безопасно работать с файлом, если открытие прошло без ошибок\n",
    "        print(\"Первые 10 символов файла:\", file.read(10))\n",
    "    finally:\n",
    "        # Этот блок выполнится всегда\n",
    "        try:\n",
    "            file.close()\n",
    "            print(\"Файл закрыт.\")\n",
    "        except NameError:\n",
    "            print(\"Файл не был открыт, закрывать нечего.\")\n",
    "\n",
    "\n",
    "if __name__ == \"__main__\":\n",
    "    main()"
   ]
  },
  {
   "cell_type": "markdown",
   "id": "1f5ae49d",
   "metadata": {},
   "source": [
    "В стандартной библиотеке Python определено множество видов исключений, структурированных в виде иерархии. Ниже приведена полная иерархия стандартных исключений:"
   ]
  },
  {
   "cell_type": "markdown",
   "id": "9feb3a44",
   "metadata": {},
   "source": [
    "https://docs.python.org/3/library/exceptions.html#exception-hierarchy"
   ]
  },
  {
   "cell_type": "markdown",
   "id": "c3c23148",
   "metadata": {},
   "source": [
    "```\n",
    "BaseException\n",
    " ├── BaseExceptionGroup\n",
    " ├── GeneratorExit\n",
    " ├── KeyboardInterrupt\n",
    " ├── SystemExit\n",
    " └── Exception\n",
    "      ├── ArithmeticError\n",
    "      │    ├── FloatingPointError\n",
    "      │    ├── OverflowError\n",
    "      │    └── ZeroDivisionError\n",
    "      ├── AssertionError\n",
    "      ├── AttributeError\n",
    "      ├── BufferError\n",
    "      ├── EOFError\n",
    "      ├── ExceptionGroup [BaseExceptionGroup]\n",
    "      ├── ImportError\n",
    "      │    └── ModuleNotFoundError\n",
    "      ├── LookupError\n",
    "      │    ├── IndexError\n",
    "      │    └── KeyError\n",
    "      ├── MemoryError\n",
    "      ├── NameError\n",
    "      │    └── UnboundLocalError\n",
    "      ├── OSError\n",
    "      │    ├── BlockingIOError\n",
    "      │    ├── ChildProcessError\n",
    "      │    ├── ConnectionError\n",
    "      │    │    ├── BrokenPipeError\n",
    "      │    │    ├── ConnectionAbortedError\n",
    "      │    │    ├── ConnectionRefusedError\n",
    "      │    │    └── ConnectionResetError\n",
    "      │    ├── FileExistsError\n",
    "      │    ├── FileNotFoundError\n",
    "      │    ├── InterruptedError\n",
    "      │    ├── IsADirectoryError\n",
    "      │    ├── NotADirectoryError\n",
    "      │    ├── PermissionError\n",
    "      │    ├── ProcessLookupError\n",
    "      │    └── TimeoutError\n",
    "      ├── ReferenceError\n",
    "      ├── RuntimeError\n",
    "      │    ├── NotImplementedError\n",
    "      │    ├── PythonFinalizationError\n",
    "      │    └── RecursionError\n",
    "      ├── StopAsyncIteration\n",
    "      ├── StopIteration\n",
    "      ├── SyntaxError\n",
    "      │    └── IndentationError\n",
    "      │         └── TabError\n",
    "      ├── SystemError\n",
    "      ├── TypeError\n",
    "      ├── ValueError\n",
    "      │    └── UnicodeError\n",
    "      │         ├── UnicodeDecodeError\n",
    "      │         ├── UnicodeEncodeError\n",
    "      │         └── UnicodeTranslateError\n",
    "      └── Warning\n",
    "           ├── BytesWarning\n",
    "           ├── DeprecationWarning\n",
    "           ├── EncodingWarning\n",
    "           ├── FutureWarning\n",
    "           ├── ImportWarning\n",
    "           ├── PendingDeprecationWarning\n",
    "           ├── ResourceWarning\n",
    "           ├── RuntimeWarning\n",
    "           ├── SyntaxWarning\n",
    "           ├── UnicodeWarning\n",
    "           └── UserWarning\n",
    "```"
   ]
  },
  {
   "cell_type": "markdown",
   "id": "32f6d81e",
   "metadata": {},
   "source": [
    "\n",
    "`BaseException` — \"корень\" всей иерархии; все остальные исключения наследуются от этого класса.\n",
    "Исключения делятся на две больших ветви:\n",
    "\n",
    "- Исключения, наследуемые от `BaseException` (**но НЕ от `Exception`**), например:\n",
    "    - `KeyboardInterrupt` — прерывание с клавиатуры (`Ctrl+C`)\n",
    "    \n",
    "    - `SystemExit` — выход из интерпретатора\n",
    "    \n",
    "    - `GeneratorExit` — завершение генератора (узнаем чуть позже, что такое генераторы и что это за исключение)\n",
    "    \n",
    "    Эти обычно не стоит перехватывать в `except Exception`, иначе вы блокируете возможность корректного выхода из программы.\n",
    "\n",
    "- Все остальные (от `Exception`) — это исключения, появляющиеся в повседневном коде, которые обычно мы и обрабатываем.\n"
   ]
  },
  {
   "cell_type": "markdown",
   "id": "58c8d4f8",
   "metadata": {},
   "source": [
    "`try...except` без уточнения типа **перехватывает все исключения**, то есть любые экземпляры, наследуемые от `BaseException`, включая `SystemExit`, `KeyboardInterrupt`, `GeneratorExit` и даже пользовательские, которые напрямую наследуются от `BaseException`."
   ]
  },
  {
   "cell_type": "code",
   "execution_count": null,
   "id": "cc70f5f5",
   "metadata": {},
   "outputs": [],
   "source": [
    "try:\n",
    "    raise KeyboardInterrupt(\"CTRL+C\")\n",
    "except:\n",
    "    print(\"Перехвачено!\")"
   ]
  },
  {
   "cell_type": "markdown",
   "id": "defb2d6a",
   "metadata": {},
   "source": [
    "Уже отмечалось, что перехват исключений, наследуемых непосредственно от `BaseException`, но не являющихся подклассами `Exception`, (таких как `SystemExit`, `KeyboardInterrupt`, `GeneratorExit` и др.) считается плохой практикой и, как правило, должен избегаться. \n",
    "\n",
    "Для отлова обычных ошибок рекомендуется использовать конструкцию `except Exception:`, чтобы не нарушать корректную работу интерпретатора `Python`, такую как, например, возможность завершить программу с помощью сочетания клавиш `Ctrl+C (KeyboardInterrupt)`."
   ]
  },
  {
   "cell_type": "markdown",
   "id": "150a0757",
   "metadata": {},
   "source": [
    "Важные группы `Exception`:\n",
    "\n",
    "\n",
    "- `ArithmeticError`: ошибки арифметики — деление на ноль, переполнение, ошибки с плавающей точкой.\n",
    "- `LookupError`: для неудачных обращений по индексу (`IndexError`) и ключу (`KeyError`).\n",
    "- `OSError`: все ошибки, связанные с операционной системой — файлы, процессы, соединения.\n",
    "- `RuntimeError`, `ValueError`, `TypeError` — \"общие\" ошибки, возникающие при неправильных входных данных, нарушениях логики и т.п.\n",
    "- `ImportError`, `ModuleNotFoundError`: ошибки импорта модулей.\n",
    "- `SyntaxError`, `IndentationError`, `TabError`: нарушения синтаксиса, проблемы с отступами в исходном коде.\n"
   ]
  },
  {
   "cell_type": "markdown",
   "id": "59796797",
   "metadata": {},
   "source": [
    "В представленной иерархии существует, пожалуй, наиболее необычный (на взгляд автора) подкласс исключений — `Warning`.\n",
    "\n",
    "`Warning` и подклассы используются не для ошибок, а для сообщений-предупреждений (не прерывают выполнение, можно перехватывать через модуль `warnings`). Подробное рассмотрение предупреждений будет проведено в заключительной части данного топика."
   ]
  },
  {
   "cell_type": "markdown",
   "id": "1a001d99",
   "metadata": {},
   "source": [
    "\n",
    "\n",
    "Отдельно следует отметить, что начиная с `Python 3.11` появились **exception-группы** (`ExceptionGroup`), предназначенные для поддержки работы с несколькими одновременно возникшими исключениями, что особенно актуально при работе с асинхронным кодом. Для обработки таких групп введена специальная конструкция `except*`. Однако в рамках данного материала мы не будем подробно рассматривать этот механизм, поскольку для его понимания требуется предварительное освоение принципов работы с корутинами.\n",
    "\n"
   ]
  },
  {
   "cell_type": "markdown",
   "id": "82562429",
   "metadata": {},
   "source": [
    "Теперь, когда мы разобрались с перехватом исключений, рассмотрим, как инициировать их возникновение самостоятельно (так называемое \"бросание\" исключений):"
   ]
  },
  {
   "cell_type": "code",
   "execution_count": null,
   "id": "dff29c21",
   "metadata": {},
   "outputs": [],
   "source": [
    "raise Exception(\"Исключение!\")"
   ]
  },
  {
   "cell_type": "markdown",
   "id": "e6c3d679",
   "metadata": {},
   "source": [
    "А ещё можно использовать `raise` внутри блока `except` без указания типа исключения — это позволяет повторно пробросить текущее исключение после выполнения необходимой дополнительной обработки, например, логирования или очистки ресурсов:"
   ]
  },
  {
   "cell_type": "code",
   "execution_count": null,
   "id": "2fd627a7",
   "metadata": {},
   "outputs": [],
   "source": [
    "try:\n",
    "    1 / 0\n",
    "except ZeroDivisionError:\n",
    "    print(\"Логируем ошибку и пробрасываем дальше\")\n",
    "    raise"
   ]
  },
  {
   "cell_type": "markdown",
   "id": "92b929fb",
   "metadata": {},
   "source": [
    "Ещё одной важной возможностью является использование конструкции `raise ... from ...` С её помощью можно явно указать причинно-следственную связь между двумя исключениями: если одно исключение возникает в процессе обработки другого, новое исключение может быть выброшено с ссылкой на исходное. Такой приём называется **цепочкой исключений** (`exception chaining`) и облегчает отладку и анализ ошибок, позволяя видеть, какое исключение послужило причиной нового."
   ]
  },
  {
   "cell_type": "code",
   "execution_count": null,
   "id": "6ac789a6",
   "metadata": {},
   "outputs": [],
   "source": [
    "try:\n",
    "    int(\"abc\")\n",
    "except ValueError as e:\n",
    "    raise RuntimeError(\"Ошибка преобразования данных\") from e"
   ]
  },
  {
   "cell_type": "markdown",
   "id": "8714ad1a",
   "metadata": {},
   "source": []
  }
 ],
 "metadata": {
  "kernelspec": {
   "display_name": ".venv",
   "language": "python",
   "name": "python3"
  },
  "language_info": {
   "codemirror_mode": {
    "name": "ipython",
    "version": 3
   },
   "file_extension": ".py",
   "mimetype": "text/x-python",
   "name": "python",
   "nbconvert_exporter": "python",
   "pygments_lexer": "ipython3",
   "version": "3.13.5"
  }
 },
 "nbformat": 4,
 "nbformat_minor": 5
}
