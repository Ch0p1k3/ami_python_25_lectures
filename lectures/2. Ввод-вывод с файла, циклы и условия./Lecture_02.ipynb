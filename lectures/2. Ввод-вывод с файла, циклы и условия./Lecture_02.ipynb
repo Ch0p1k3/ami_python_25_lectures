{
  "nbformat": 4,
  "nbformat_minor": 0,
  "metadata": {
    "colab": {
      "provenance": [],
      "collapsed_sections": [
        "U03YrJ_BOHaI"
      ]
    },
    "kernelspec": {
      "name": "python3",
      "display_name": "Python 3"
    },
    "language_info": {
      "name": "python"
    }
  },
  "cells": [
    {
      "cell_type": "markdown",
      "source": [
        "## Python-1, Лекция 2\n",
        "\n",
        "Лектор: Хайбулин Даниэль"
      ],
      "metadata": {
        "id": "MvjKDalaISGI"
      }
    },
    {
      "cell_type": "markdown",
      "source": [
        "Итак, сегодня мы поговорим про циклы, условия, а также про ввод-вывод из файла."
      ],
      "metadata": {
        "id": "TLiKHi_0IYCm"
      }
    },
    {
      "cell_type": "markdown",
      "source": [
        "### Циклы и условия"
      ],
      "metadata": {
        "id": "x_wsFhcdI1GU"
      }
    },
    {
      "cell_type": "markdown",
      "source": [
        "Скорее всего в других ЯП вы сталкивались с классическими циклами и условиями:\n",
        "\n",
        "* if-else: если верно условие, то сделай одно, иначе сделай другое\n",
        "\n",
        "* while: пока верно условие, делай вот это\n",
        "\n",
        "* for: для каждого значения совершай действия\n",
        "\n",
        "В целом синтаксис Python не особо отличается от других ЯП в этом плане, но давайте глянем"
      ],
      "metadata": {
        "id": "13pzrwMKI3pk"
      }
    },
    {
      "cell_type": "markdown",
      "source": [
        "#### If-else"
      ],
      "metadata": {
        "id": "5TL3Z4SwJfFt"
      }
    },
    {
      "cell_type": "markdown",
      "source": [
        "Синтаксис следующий:\n",
        "\n",
        "```\n",
        "if <condition>:\n",
        "    <actions>\n",
        "else:\n",
        "    <actions>\n",
        "```"
      ],
      "metadata": {
        "id": "8ttX7CPpF8Wr"
      }
    },
    {
      "cell_type": "markdown",
      "source": [
        "Давайте на примере какой-нибудь простой задачи.\n",
        "\n",
        "Умный Петя придумал занимательную игру: если число делится на 3, то его надо умножить на 2 и прибавить 1. Если число делится на 5, то нужно вычесть 2 из числа. Если число делится на 7, то тогда надо взять от него остаток при делении на 15. В случае, если число делится на несколько делителей (например, на 3 и на 5), то тогда выполняется операция по самому наименьшему делителю. В случае, если число ни на что не делится, то тогда с ним ничего не происходит.\n",
        "\n",
        "Петя захотел сделать программу, которая выполняет эти нехитрые операции. Помогите ему это сделать"
      ],
      "metadata": {
        "id": "O7KOKreCJg6o"
      }
    },
    {
      "cell_type": "markdown",
      "source": [
        "Тут видно, что нужно применять условия (деление на 3, на 5 и на 7). Давайте пробовать с помощью if-else:"
      ],
      "metadata": {
        "id": "XZRYRSlnKa1F"
      }
    },
    {
      "cell_type": "code",
      "execution_count": 2,
      "metadata": {
        "colab": {
          "base_uri": "https://localhost:8080/"
        },
        "id": "EpCNTZqBHXlT",
        "outputId": "77fd3479-2c02-4128-feb1-ff2848278ef0"
      },
      "outputs": [
        {
          "output_type": "stream",
          "name": "stdout",
          "text": [
            "Введите число:15\n",
            "31\n"
          ]
        }
      ],
      "source": [
        "a = int(input(\"Введите число:\"))\n",
        "\n",
        "if (a % 3) == 0:\n",
        "    a *= 2\n",
        "    a += 1\n",
        "else:\n",
        "    if (a % 5) == 0:\n",
        "        a -= 2\n",
        "    else:\n",
        "        if (a % 7) == 0:\n",
        "            a %= 15\n",
        "print(a)"
      ]
    },
    {
      "cell_type": "markdown",
      "source": [
        "Вуаля, что-то получилось! Но выглядит немного громоздко: if-else заставляет постоянно делать переносы, такую программу читать сложнее.\n",
        "\n",
        "Но на это есть решение! Называется elif (else + if), он позволяет сделать несколько условий. Как это работает:\n",
        "\n",
        "```\n",
        "if condition_1: #если выполняется первое условие\n",
        "    <actions_1> #сделай вот это, если будет condition_1\n",
        "elif condition_2: #если первое не выполняется, то проверяем на второе\n",
        "    <actions_2> #сделай вот это, если будет condition_2\n",
        "else: # если оба условия неверны\n",
        "    <actions_3> # делай вот это\n",
        "```"
      ],
      "metadata": {
        "id": "nmRP6sgoK3wl"
      }
    },
    {
      "cell_type": "markdown",
      "source": [
        "Попробуем переписать наш код:"
      ],
      "metadata": {
        "id": "F72swojaLpQV"
      }
    },
    {
      "cell_type": "code",
      "source": [
        "a = int(input(\"Введите число:\"))\n",
        "\n",
        "if (a % 3) == 0:\n",
        "    a *= 2\n",
        "    a += 1\n",
        "elif (a % 5) == 0:\n",
        "    a -= 2\n",
        "elif (a % 7) == 0:\n",
        "    a %= 15\n",
        "\n",
        "print(a)"
      ],
      "metadata": {
        "colab": {
          "base_uri": "https://localhost:8080/"
        },
        "id": "UKxtDAnjLoVU",
        "outputId": "720e3693-371d-4b80-f5b0-0c5019e16810"
      },
      "execution_count": null,
      "outputs": [
        {
          "output_type": "stream",
          "name": "stdout",
          "text": [
            "Введите число:28\n",
            "13\n"
          ]
        }
      ]
    },
    {
      "cell_type": "markdown",
      "source": [
        "А теперь давайте попробуем вот такой пример:\n",
        "\n",
        "По введенной стране вывести ее столицу\n",
        "\n",
        "Решим задачу с помощью if-else:"
      ],
      "metadata": {
        "id": "PlmWtVUcL1JR"
      }
    },
    {
      "cell_type": "code",
      "source": [
        "c = input(\"Enter any country:\")\n",
        "if c == \"Russia\":\n",
        "    print(\"Moscow\")\n",
        "elif c == \"UK\":\n",
        "    print(\"London is the capital of Great Britain\")\n",
        "elif c == \"USA\":\n",
        "    print(\"My pronouns are U-S-A! 🦅\")\n",
        "    print(\"Washington\")\n",
        "else:\n",
        "    print(\"No lo se...\")"
      ],
      "metadata": {
        "colab": {
          "base_uri": "https://localhost:8080/"
        },
        "id": "Ekn_tNtyRm0l",
        "outputId": "159ad64d-eed6-4e1e-80c7-522380050806"
      },
      "execution_count": 5,
      "outputs": [
        {
          "output_type": "stream",
          "name": "stdout",
          "text": [
            "Enter any country:Russia\n",
            "Moscow\n"
          ]
        }
      ]
    },
    {
      "cell_type": "markdown",
      "source": [
        "#### Тернарный оператор"
      ],
      "metadata": {
        "id": "ZAawSfKcT341"
      }
    },
    {
      "cell_type": "code",
      "source": [
        "x = 100\n",
        "\n",
        "answer = 'Четное' if x % 2 == 0 else 'Нечетное'\n",
        "answer"
      ],
      "metadata": {
        "colab": {
          "base_uri": "https://localhost:8080/",
          "height": 35
        },
        "id": "IgNI5U7pT5Ok",
        "outputId": "8c19172f-8a93-40e6-cc76-7d46c4caf69e"
      },
      "execution_count": 16,
      "outputs": [
        {
          "output_type": "execute_result",
          "data": {
            "text/plain": [
              "'Четное'"
            ],
            "application/vnd.google.colaboratory.intrinsic+json": {
              "type": "string"
            }
          },
          "metadata": {},
          "execution_count": 16
        }
      ]
    },
    {
      "cell_type": "code",
      "source": [
        "x = -1\n",
        "\n",
        "answer = x % 2 if x > 0 else 'Значение отрицательное!'\n",
        "answer"
      ],
      "metadata": {
        "colab": {
          "base_uri": "https://localhost:8080/",
          "height": 35
        },
        "id": "Zu9pqZJlT9bd",
        "outputId": "586db1a9-c0fb-46ac-e7ef-d5f5ba8625d7"
      },
      "execution_count": 17,
      "outputs": [
        {
          "output_type": "execute_result",
          "data": {
            "text/plain": [
              "'Значение отрицательное!'"
            ],
            "application/vnd.google.colaboratory.intrinsic+json": {
              "type": "string"
            }
          },
          "metadata": {},
          "execution_count": 17
        }
      ]
    },
    {
      "cell_type": "markdown",
      "source": [
        "Антипаттерны:\n",
        "\n",
        "* использовать тернарный оператор для длинных выражений\n",
        "* возвращать разные типы в зависимости от условия"
      ],
      "metadata": {
        "id": "J5yGS2jrUCgC"
      }
    },
    {
      "cell_type": "markdown",
      "source": [
        "#### Match"
      ],
      "metadata": {
        "id": "U03YrJ_BOHaI"
      }
    },
    {
      "cell_type": "code",
      "source": [
        "language = 'russian'\n",
        "\n",
        "match language:\n",
        "    case 'russian':\n",
        "        print('Привет')\n",
        "    case 'english':\n",
        "        print('Hello')\n",
        "    case 'german':\n",
        "        print('Hallo')\n",
        "    case _:\n",
        "        print('Unknown language')"
      ],
      "metadata": {
        "colab": {
          "base_uri": "https://localhost:8080/"
        },
        "id": "qSxIBmk9TzFB",
        "outputId": "5255ea26-832b-459f-a5c8-d24c599d4b2c"
      },
      "execution_count": 15,
      "outputs": [
        {
          "output_type": "stream",
          "name": "stdout",
          "text": [
            "Привет\n"
          ]
        }
      ]
    },
    {
      "cell_type": "code",
      "source": [
        "lists = [\n",
        "    ['🐸', '🐸', '🐸'],\n",
        "    ['🐸', '🦋'],\n",
        "    ['🐸', '🦋', '🌼'],\n",
        "    ['🦋'],\n",
        "    None\n",
        "]\n",
        "\n",
        "for lst in lists:\n",
        "    match lst:\n",
        "        case ['🐸', *_, '🦋', '🌼']: print(lst, 'Начинается с лягушки, оканчивается бабочкой и цветком')\n",
        "        case ['🐸', *_, '🦋']: print(lst, 'Начинается с лягушки и оканчивается бабочкой')\n",
        "        case [*_, '🦋']: print(lst, 'Оканчивается бабочкой')\n",
        "        case ['🐸', *_, '🌼']: print(lst, 'Начинается с лягушки и оканчивается цветком')\n",
        "        case ['🐸', *_]: print(lst, 'Начинается с лягушки')\n",
        "        case []: print(lst, 'Пустая последовательность')\n",
        "        case [*_]: print(lst, 'Последовательность чего-либо')\n",
        "        case _: print(lst, 'Не последовательность')"
      ],
      "metadata": {
        "colab": {
          "base_uri": "https://localhost:8080/"
        },
        "id": "h_GSyzQ8OGmR",
        "outputId": "a09e7d56-0ea7-4f94-a774-13cad7facd79"
      },
      "execution_count": 6,
      "outputs": [
        {
          "output_type": "stream",
          "name": "stdout",
          "text": [
            "['🐸', '🐸', '🐸'] Начинается с лягушки\n",
            "['🐸', '🦋'] Начинается с лягушки и оканчивается бабочкой\n",
            "['🐸', '🦋', '🌼'] Начинается с лягушки, оканчивается бабочкой и цветком\n",
            "['🦋'] Оканчивается бабочкой\n",
            "None Не последовательность\n"
          ]
        }
      ]
    },
    {
      "cell_type": "code",
      "source": [
        "lists = [\n",
        "    ['🐸', '🐸', '🐸'],\n",
        "    ['🐸', '🐸', '🌼'],\n",
        "    None\n",
        "]\n",
        "\n",
        "for lst in lists:\n",
        "    match lst:\n",
        "        case [\"🐸\", *a]: print(f\"Начинается с лягушки, заканчивается {a}\")\n",
        "        case _: print(\"Не уверен\")"
      ],
      "metadata": {
        "colab": {
          "base_uri": "https://localhost:8080/"
        },
        "id": "S-GGxZgkSa4E",
        "outputId": "9139b697-1198-4e2a-8919-7db7aa9e48ec"
      },
      "execution_count": 12,
      "outputs": [
        {
          "output_type": "stream",
          "name": "stdout",
          "text": [
            "Начинается с лягушки, заканчивается ['🐸', '🐸']\n",
            "Начинается с лягушки, заканчивается ['🐸', '🌼']\n",
            "Не уверен\n"
          ]
        }
      ]
    },
    {
      "cell_type": "code",
      "source": [
        "lists = [\n",
        "    ['🐸', '🌸'],\n",
        "    ['🐸', '🌸', '🌹'],\n",
        "    None\n",
        "]\n",
        "\n",
        "for lst in lists:\n",
        "    match lst:\n",
        "        case ['🐸', ('🌹' | '🌸' | '🌺' | '🌻' | '🌼')]: print(f'Лягушка и цветок')\n",
        "        case _: print('Не уверен')"
      ],
      "metadata": {
        "colab": {
          "base_uri": "https://localhost:8080/"
        },
        "id": "gsFniQPJSpS4",
        "outputId": "7eed6b89-ff9a-4a21-ad66-f1dc12e025eb"
      },
      "execution_count": 14,
      "outputs": [
        {
          "output_type": "stream",
          "name": "stdout",
          "text": [
            "Лягушка и цветок\n",
            "Не уверен\n",
            "Не уверен\n"
          ]
        }
      ]
    },
    {
      "cell_type": "markdown",
      "source": [
        "#### While"
      ],
      "metadata": {
        "id": "hqKOOk1dF3wg"
      }
    },
    {
      "cell_type": "markdown",
      "source": [
        "While - это уже цикл (то есть может выполняться несколько раз). В данном случае мы выполняем до тех пор, пока условие, которые мы задали, не станет ложным\n",
        "\n",
        "Синтаксис:\n",
        "\n",
        "```\n",
        "while <condition>:\n",
        "    <actions>\n",
        "```\n",
        "\n",
        "То есть делай, пока можно. Когда нельзя - перестань. Давайте на примере:"
      ],
      "metadata": {
        "id": "WWJTqPFmF6xb"
      }
    },
    {
      "cell_type": "markdown",
      "source": [
        "Умному Пете понравился наш код, но он захотел сделать добавление к своей игре: он хочет, чтобы действия выполнялись до тех пор, пока число не будет делиться на 13 или пока мы не перестанем его менять. Помогите Пете усовершенствовать алгоритм"
      ],
      "metadata": {
        "id": "am5kZ2FIGaD2"
      }
    },
    {
      "cell_type": "markdown",
      "source": [
        "Итак, то есть нам необходимо менять число до тех пор, пока либо оно не будет не делиться на все вышеуказанные делители (то есть 3,5 и 7) или пока оно не станет делиться на 13. Давайте пробовать вначале с делением:"
      ],
      "metadata": {
        "id": "BfjRvkfiGyIl"
      }
    },
    {
      "cell_type": "code",
      "source": [
        "a = int(input(\"Введите число:\"))\n",
        "\n",
        "while a % 13 != 0:\n",
        "    if a % 3 == 0:\n",
        "        a *= 2\n",
        "        a += 1\n",
        "    elif a % 5 == 0:\n",
        "        a -= 2\n",
        "    elif a % 7 == 0:\n",
        "        a %= 15\n",
        "        a += 1\n",
        "\n",
        "print(a)"
      ],
      "metadata": {
        "colab": {
          "base_uri": "https://localhost:8080/"
        },
        "id": "VdqVrMm0HFjd",
        "outputId": "c7230840-be86-4cdc-ef26-435f4eb3f9af"
      },
      "execution_count": 14,
      "outputs": [
        {
          "output_type": "stream",
          "name": "stdout",
          "text": [
            "Введите число:13\n",
            "13\n"
          ]
        }
      ]
    },
    {
      "cell_type": "markdown",
      "source": [
        "Вроде бы все хорошо, но у нас нет условия, что ничего не изменилось... Как же его добавить?\n",
        "\n",
        "Для этого есть такие замечательные слова как continue или break. Как они работают?\n",
        "\n",
        "![](https://i.pinimg.com/736x/ef/48/cf/ef48cf48ec8fa615235c64a5e23ee731.jpg)"
      ],
      "metadata": {
        "id": "50xlA5I1HjhS"
      }
    },
    {
      "cell_type": "code",
      "source": [
        "a = int(input(\"Введите число:\"))\n",
        "\n",
        "while a % 13 != 0:\n",
        "    if a % 3 == 0:\n",
        "        a *= 2\n",
        "        a += 1\n",
        "    elif a % 5 == 0:\n",
        "        a -= 2\n",
        "    elif a % 7 == 0:\n",
        "        a %= 15\n",
        "        a += 1\n",
        "    else:\n",
        "        break\n",
        "\n",
        "print(a)"
      ],
      "metadata": {
        "colab": {
          "base_uri": "https://localhost:8080/"
        },
        "id": "ZJzDM5CcH5_i",
        "outputId": "030ec560-f0d5-42b9-d4e1-03dccd03b053"
      },
      "execution_count": 18,
      "outputs": [
        {
          "output_type": "stream",
          "name": "stdout",
          "text": [
            "Введите число:3\n",
            "8\n"
          ]
        }
      ]
    },
    {
      "cell_type": "markdown",
      "source": [
        "#### For"
      ],
      "metadata": {
        "id": "QSmFKIOlIJQr"
      }
    },
    {
      "cell_type": "markdown",
      "source": [
        "Все видели примерно вот такой синтаксис:\n",
        "\n",
        "```\n",
        "for i in range(0, 10):\n",
        "    <actions>\n",
        "```\n",
        "\n",
        "Что обозначает: \"для каждого i от 0 до 9 сделай что-то\". Если обобщить, то это будет как:\n",
        "\n",
        "\"Для каждого элемента сделай вот это\" (такая формулировка нам еще пригодится)\n",
        "\n",
        "Что вообще в таком случае происходит?\n",
        "\n",
        "Есть переменная i, в которой будет храниться значение. В каждом шаге цикла у нас i меняется от самого первого значения (0) до самого последнего значения (9):"
      ],
      "metadata": {
        "id": "hDV_zHtOIMVh"
      }
    },
    {
      "cell_type": "code",
      "source": [
        "for i in range(0, 10):\n",
        "    print(i)"
      ],
      "metadata": {
        "colab": {
          "base_uri": "https://localhost:8080/"
        },
        "id": "9IB-CmBTWI-4",
        "outputId": "64dd9cf9-97a7-418f-e507-f025c428bbed"
      },
      "execution_count": null,
      "outputs": [
        {
          "output_type": "stream",
          "name": "stdout",
          "text": [
            "0\n",
            "1\n",
            "2\n",
            "3\n",
            "4\n",
            "5\n",
            "6\n",
            "7\n",
            "8\n",
            "9\n"
          ]
        }
      ]
    },
    {
      "cell_type": "markdown",
      "source": [
        "Обратите внимание, что само i мы можем менять! Потому что каждый раз, когда мы заходим в for, значение обновляется (но так делать не надо, потому что это приводит к обфускации кода):"
      ],
      "metadata": {
        "id": "vZyRd_xCWZvJ"
      }
    },
    {
      "cell_type": "code",
      "source": [
        "for i in range(0, 10):\n",
        "    i += 1\n",
        "    print(i)"
      ],
      "metadata": {
        "colab": {
          "base_uri": "https://localhost:8080/"
        },
        "id": "EW9JTGPaWhmI",
        "outputId": "19e8a5b4-79e4-43b2-99c4-9fba1e956851"
      },
      "execution_count": null,
      "outputs": [
        {
          "output_type": "stream",
          "name": "stdout",
          "text": [
            "1\n",
            "2\n",
            "3\n",
            "4\n",
            "5\n",
            "6\n",
            "7\n",
            "8\n",
            "9\n",
            "10\n"
          ]
        }
      ]
    },
    {
      "cell_type": "markdown",
      "source": [
        "Возвращаемся к Пете! Теперь он хочет знать, а какие значения получаться в итоге для всех четных чисел от 0 до 50. Давайте поможем ему!"
      ],
      "metadata": {
        "id": "G_JTeLgjWqD8"
      }
    },
    {
      "cell_type": "code",
      "source": [
        "for i in range(0, 51, 2):\n",
        "    a = i\n",
        "    while a % 13 != 0:\n",
        "        if a % 3 == 0:\n",
        "            a *= 2\n",
        "            a += 1\n",
        "        elif a % 5 == 0:\n",
        "            a -= 2\n",
        "        elif a % 7 == 0:\n",
        "            a %= 15\n",
        "            a += 1\n",
        "        else:\n",
        "            break\n",
        "    print(i, a)"
      ],
      "metadata": {
        "id": "Mu4Uhi8iWxVL",
        "colab": {
          "base_uri": "https://localhost:8080/"
        },
        "outputId": "e2799368-f907-41ec-cf85-9a51133eeb89"
      },
      "execution_count": 15,
      "outputs": [
        {
          "output_type": "stream",
          "name": "stdout",
          "text": [
            "0 0\n",
            "2 2\n",
            "4 4\n",
            "6 13\n",
            "8 8\n",
            "10 8\n",
            "12 23\n",
            "14 31\n",
            "16 16\n",
            "18 37\n",
            "20 37\n",
            "22 22\n",
            "24 8\n",
            "26 26\n",
            "28 31\n",
            "30 61\n",
            "32 32\n",
            "34 34\n",
            "36 73\n",
            "38 38\n",
            "40 38\n",
            "42 83\n",
            "44 44\n",
            "46 46\n",
            "48 97\n",
            "50 97\n"
          ]
        }
      ]
    },
    {
      "cell_type": "markdown",
      "source": [
        "Вуаля! Давайте чуть-чуть посмотрим на range, что за зверь. Строго говоря это итератор (об этом мы поговорим на следующих лекциях). Он генерирует последовательность из чисел (можно соотнести с индексированием в списках и строках!)\n",
        "\n",
        "```\n",
        "range(beg, end, step) - выведи числа от числа beg до end (невключительно) с шагом step\n",
        "```"
      ],
      "metadata": {
        "id": "lgUYF2oMXCBZ"
      }
    },
    {
      "cell_type": "code",
      "source": [
        "print(list(range(0, 50, 2)))"
      ],
      "metadata": {
        "colab": {
          "base_uri": "https://localhost:8080/"
        },
        "id": "O9QFWOhEXbbk",
        "outputId": "3ce13ccf-cee1-4395-b5f1-a139ecb404ea"
      },
      "execution_count": null,
      "outputs": [
        {
          "output_type": "stream",
          "name": "stdout",
          "text": [
            "[0, 2, 4, 6, 8, 10, 12, 14, 16, 18, 20, 22, 24, 26, 28, 30, 32, 34, 36, 38, 40, 42, 44, 46, 48]\n"
          ]
        }
      ]
    },
    {
      "cell_type": "markdown",
      "source": [
        "Некоторые знающие товарищи еще видели, что еще есть такая функция, как xrange(). Что это такое и в чем разница?\n",
        "\n",
        "СПОЙЛЕР: нет в Python 3 функции xrange(), это пережиток Python 2 (в Python3 xrange == range)\n",
        "\n",
        "В Python 2 было 2 способа: range и xrange. Первый создает прямо список, второй - создает итератор (про это мы поговорим позже). Хранить целый список - неэффективно, особенно для итераций, поэтому и придумали xrange. Если же вы в Python 3 хотите создать список - то можете к нему просто привести объект range"
      ],
      "metadata": {
        "id": "cb7dFi-xkfPK"
      }
    },
    {
      "cell_type": "code",
      "source": [
        "import sys\n",
        "a = range(10000)\n",
        "print(\"Range memory:\", sys.getsizeof(a)) ## с помощью функции получаем размер объекта\n",
        "a = list(a)\n",
        "print(\"List memory:\", sys.getsizeof(a)) ## с помощью функции получаем размер объекта"
      ],
      "metadata": {
        "colab": {
          "base_uri": "https://localhost:8080/"
        },
        "id": "X52OKlAJkwbu",
        "outputId": "705e0953-b9a6-4f55-b80e-c10481757cfe"
      },
      "execution_count": null,
      "outputs": [
        {
          "output_type": "stream",
          "name": "stdout",
          "text": [
            "Range memory: 48\n",
            "List memory: 80056\n"
          ]
        }
      ]
    },
    {
      "cell_type": "markdown",
      "source": [
        "Если говорить просто, то range предоставляет такой список, в котором мы и будем брать наши значения.\n",
        "\n",
        "А можно ли ходить не только по числам, но и как-нибудь еще? Конечно можно:"
      ],
      "metadata": {
        "id": "bwYIFbvfXgN_"
      }
    },
    {
      "cell_type": "code",
      "source": [
        "for i in \"abcds\":\n",
        "    print(i)\n",
        "\n",
        "for i in [\"Hello\", \"World\"]:\n",
        "    print(i)"
      ],
      "metadata": {
        "colab": {
          "base_uri": "https://localhost:8080/"
        },
        "id": "eus_pEeDXq0l",
        "outputId": "6536d3a5-c6cc-46f4-9e9f-b3ad079386c0"
      },
      "execution_count": 16,
      "outputs": [
        {
          "output_type": "stream",
          "name": "stdout",
          "text": [
            "a\n",
            "b\n",
            "c\n",
            "d\n",
            "s\n",
            "Hello\n",
            "World\n"
          ]
        }
      ]
    },
    {
      "cell_type": "markdown",
      "source": [
        "И последняя ремарка: так как for - это тоже цикл, то и слова continue и break действуют!"
      ],
      "metadata": {
        "id": "xFAUONrpX6-7"
      }
    },
    {
      "cell_type": "code",
      "source": [
        "for i in range(5):\n",
        "    print(i)\n",
        "    break\n",
        "    print(i + 1)"
      ],
      "metadata": {
        "colab": {
          "base_uri": "https://localhost:8080/"
        },
        "id": "iqepLQeyYAVL",
        "outputId": "4e55cc46-1854-4828-b1ca-3ca03422818f"
      },
      "execution_count": 17,
      "outputs": [
        {
          "output_type": "stream",
          "name": "stdout",
          "text": [
            "0\n"
          ]
        }
      ]
    },
    {
      "cell_type": "code",
      "source": [
        "for i in range(5):\n",
        "    print(i)\n",
        "    continue\n",
        "    print(i + 1)"
      ],
      "metadata": {
        "colab": {
          "base_uri": "https://localhost:8080/"
        },
        "id": "omkH6ULaYH1C",
        "outputId": "c25f3ddf-4033-46ab-93ae-542f400146a3"
      },
      "execution_count": 18,
      "outputs": [
        {
          "output_type": "stream",
          "name": "stdout",
          "text": [
            "0\n",
            "1\n",
            "2\n",
            "3\n",
            "4\n"
          ]
        }
      ]
    },
    {
      "cell_type": "markdown",
      "source": [
        "И теперь еще немного про списки. Как бы нам легко и незайтеливо создать матрицу (то есть список списков)? Можно сделать с помощью операции умножения:"
      ],
      "metadata": {
        "id": "vbfxurIkS_yb"
      }
    },
    {
      "cell_type": "code",
      "source": [
        "a = [[0] * 5] * 5\n",
        "print(a)"
      ],
      "metadata": {
        "colab": {
          "base_uri": "https://localhost:8080/"
        },
        "id": "u7WnpU8FTGCZ",
        "outputId": "603738c9-577d-49b5-8e4a-81e3cd2b6c8e"
      },
      "execution_count": 19,
      "outputs": [
        {
          "output_type": "stream",
          "name": "stdout",
          "text": [
            "[[0, 0, 0, 0, 0], [0, 0, 0, 0, 0], [0, 0, 0, 0, 0], [0, 0, 0, 0, 0], [0, 0, 0, 0, 0]]\n"
          ]
        }
      ]
    },
    {
      "cell_type": "code",
      "source": [
        "a[0][0] = 5\n",
        "print(a)"
      ],
      "metadata": {
        "colab": {
          "base_uri": "https://localhost:8080/"
        },
        "id": "b2bFJ-B9UBQc",
        "outputId": "f1dee0b1-7eb1-4397-e072-37d888c449e2"
      },
      "execution_count": 20,
      "outputs": [
        {
          "output_type": "stream",
          "name": "stdout",
          "text": [
            "[[5, 0, 0, 0, 0], [5, 0, 0, 0, 0], [5, 0, 0, 0, 0], [5, 0, 0, 0, 0], [5, 0, 0, 0, 0]]\n"
          ]
        }
      ]
    },
    {
      "cell_type": "markdown",
      "source": [
        "Упс, а эту проблему мы видели в прошлый раз. Почему так происходит? На самом деле Python играет с вами в игры:"
      ],
      "metadata": {
        "id": "ZMgke1MeUGBX"
      }
    },
    {
      "cell_type": "code",
      "source": [
        "for b in a:\n",
        "    print(id(b)) ## позволяет понять расположение объекта"
      ],
      "metadata": {
        "colab": {
          "base_uri": "https://localhost:8080/"
        },
        "id": "5zacVIIFUeg2",
        "outputId": "48fa8688-7175-4f51-cfa8-055fe6604fc9"
      },
      "execution_count": 21,
      "outputs": [
        {
          "output_type": "stream",
          "name": "stdout",
          "text": [
            "133476899968640\n",
            "133476899968640\n",
            "133476899968640\n",
            "133476899968640\n",
            "133476899968640\n"
          ]
        }
      ]
    },
    {
      "cell_type": "markdown",
      "source": [
        "Что он делает? Берет и не создает реальные копии, а просто создает ссылки на одну и ту же ячейку памяти, потому поведение такое\n",
        "\n",
        "Что же делать в данном случае? А все просто: нужно делать с помощью for!"
      ],
      "metadata": {
        "id": "cV3CA1TLUk2A"
      }
    },
    {
      "cell_type": "code",
      "source": [
        "a = [[0] * 5 for _ in range(5)]\n",
        "for b in a:\n",
        "    print(id(b))\n",
        "\n",
        "a[0][0] = 5\n",
        "print(a)"
      ],
      "metadata": {
        "colab": {
          "base_uri": "https://localhost:8080/"
        },
        "id": "SemtZYgUUzV6",
        "outputId": "770ff127-81eb-423f-9544-6b9c1498516f"
      },
      "execution_count": 22,
      "outputs": [
        {
          "output_type": "stream",
          "name": "stdout",
          "text": [
            "133476900739456\n",
            "133476900744128\n",
            "133476900741184\n",
            "133476900740736\n",
            "133476900740416\n",
            "[[5, 0, 0, 0, 0], [0, 0, 0, 0, 0], [0, 0, 0, 0, 0], [0, 0, 0, 0, 0], [0, 0, 0, 0, 0]]\n"
          ]
        }
      ]
    },
    {
      "cell_type": "markdown",
      "source": [
        "С помощью for мы делаем так, что он каждый раз создает новый массив. Но тогда возникает вопрос: а почему для первого умножения так не надо делать?\n",
        "\n",
        "Опять-таки это связано с тем, какой у нас **объект**: изменяемый или нет (и вот про это будет в следующий раз)\n",
        "\n",
        "Если коротко: если объект **неизменяемый**, то любая операция порождает новый элемент. Такой пример показателен:"
      ],
      "metadata": {
        "id": "2LIlST00VOTi"
      }
    },
    {
      "cell_type": "code",
      "source": [
        "a = 1\n",
        "print(id(a))\n",
        "a += 2\n",
        "print(id(a))"
      ],
      "metadata": {
        "colab": {
          "base_uri": "https://localhost:8080/"
        },
        "id": "GnY46SrsWB1_",
        "outputId": "eaf91f64-fccf-424c-d126-5e3cd428ed7d"
      },
      "execution_count": 25,
      "outputs": [
        {
          "output_type": "stream",
          "name": "stdout",
          "text": [
            "10757736\n",
            "10757800\n"
          ]
        }
      ]
    },
    {
      "cell_type": "markdown",
      "source": [
        "### Работа с файлами"
      ],
      "metadata": {
        "id": "TQ69xxImpg6l"
      }
    },
    {
      "cell_type": "markdown",
      "source": [
        "Иногда нам необходимо работать с файлами, потому что мы не всегда все вводим с помощью input (в целом вещь понятная - данные нам могут прийти в виде какого-нибудь текстового файлика, экселя, и так далее)\n",
        "\n",
        "И это все дело надо бы уметь читать\n",
        "\n",
        "![](https://www.meme-arsenal.com/memes/6ac45984c25a2230e62bfdf3d6d61e02.jpg)"
      ],
      "metadata": {
        "id": "J3MTrCaYpsnt"
      }
    },
    {
      "cell_type": "markdown",
      "source": [
        "Пойдем нелинейно: вначале научимся записывать файлы, а потом из них что-нибудь читать"
      ],
      "metadata": {
        "id": "JLwISW3Fq8rX"
      }
    },
    {
      "cell_type": "code",
      "execution_count": 26,
      "metadata": {
        "id": "3WnZqhDQoH87"
      },
      "outputs": [],
      "source": [
        "f = open(\"icantread.txt\", \"w\")\n",
        "# функция open состоит из двух аргументов:\n",
        "# 1 - сам файл (используем относительный путь файла)\n",
        "# 2 - mode (или же на что открываем файл)"
      ]
    },
    {
      "cell_type": "markdown",
      "source": [
        "Какие есть моды?\n",
        "\n",
        "* r - читаем файл (если файла нет, выдаст ошибку)\n",
        "\n",
        "* w - записываем файл (если файла нет, то создаст, но если файл был и мы что-то запишем, то прошлое сотрется)\n",
        "\n",
        "* r+ - читаем и запимываем одновременно\n",
        "\n",
        "* a - записываем файл, добавляем в конец (не трогая предыдущее)"
      ],
      "metadata": {
        "id": "zacHBDR4rnPl"
      }
    },
    {
      "cell_type": "markdown",
      "source": [
        "#### Запись"
      ],
      "metadata": {
        "id": "ZPNZ51DBx19i"
      }
    },
    {
      "cell_type": "markdown",
      "source": [
        "Давайте что-нибудь запишем"
      ],
      "metadata": {
        "id": "5dMOmIdaskBH"
      }
    },
    {
      "cell_type": "code",
      "source": [
        "text = '''\n",
        "Lorem ipsum dolor sit amet, consectetur adipiscing elit, sed do eiusmod tempor incididunt ut labore et dolore magna aliqua.\n",
        "Ut enim ad minim veniam, quis nostrud exercitation ullamco laboris nisi ut aliquip ex ea commodo consequat.\n",
        "Duis aute irure dolor in reprehenderit in voluptate velit esse cillum dolore eu fugiat nulla pariatur.\n",
        "Excepteur sint occaecat cupidatat non proident, sunt in culpa qui officia deserunt mollit anim id est laborum.\n",
        "'''\n",
        "\n",
        "f.write(text) # с помощью write записываем\n",
        "f.close()"
      ],
      "metadata": {
        "id": "L9gJGu8rsmmn"
      },
      "execution_count": 27,
      "outputs": []
    },
    {
      "cell_type": "code",
      "source": [
        "!cat icantread.txt #проверим через утилиту cat, есть ли там что-то"
      ],
      "metadata": {
        "colab": {
          "base_uri": "https://localhost:8080/"
        },
        "id": "6464N8cOtA61",
        "outputId": "87124b6b-ef6a-4600-aa50-312ef89183ce"
      },
      "execution_count": 28,
      "outputs": [
        {
          "output_type": "stream",
          "name": "stdout",
          "text": [
            "\n",
            "Lorem ipsum dolor sit amet, consectetur adipiscing elit, sed do eiusmod tempor incididunt ut labore et dolore magna aliqua.\n",
            "Ut enim ad minim veniam, quis nostrud exercitation ullamco laboris nisi ut aliquip ex ea commodo consequat.\n",
            "Duis aute irure dolor in reprehenderit in voluptate velit esse cillum dolore eu fugiat nulla pariatur.\n",
            "Excepteur sint occaecat cupidatat non proident, sunt in culpa qui officia deserunt mollit anim id est laborum.\n"
          ]
        }
      ]
    },
    {
      "cell_type": "markdown",
      "source": [
        "А еще умеем записывать с помощью print:"
      ],
      "metadata": {
        "id": "NFNzv6hcy9L-"
      }
    },
    {
      "cell_type": "code",
      "source": [
        "print(\"Ahah\", file=open(\"new_file.txt\", \"w\"))"
      ],
      "metadata": {
        "id": "aCkZ0CbIzA9y"
      },
      "execution_count": 29,
      "outputs": []
    },
    {
      "cell_type": "code",
      "source": [
        "!cat new_file.txt"
      ],
      "metadata": {
        "colab": {
          "base_uri": "https://localhost:8080/"
        },
        "id": "GPvtOTKZzB1g",
        "outputId": "daeb2533-a850-4f13-8615-46ce30dab1e9"
      },
      "execution_count": 30,
      "outputs": [
        {
          "output_type": "stream",
          "name": "stdout",
          "text": [
            "Ahah\n"
          ]
        }
      ]
    },
    {
      "cell_type": "markdown",
      "source": [
        "#### Чтение"
      ],
      "metadata": {
        "id": "rJ_hsiaVxzpe"
      }
    },
    {
      "cell_type": "code",
      "source": [
        "f_new = open(\"icantread.txt\", 'r')\n",
        "f_new.read() #читаем файл"
      ],
      "metadata": {
        "colab": {
          "base_uri": "https://localhost:8080/",
          "height": 71
        },
        "id": "ztiF8fEDtHuU",
        "outputId": "d719825a-7ae4-409e-ce05-b847cb519c60"
      },
      "execution_count": 31,
      "outputs": [
        {
          "output_type": "execute_result",
          "data": {
            "text/plain": [
              "'\\nLorem ipsum dolor sit amet, consectetur adipiscing elit, sed do eiusmod tempor incididunt ut labore et dolore magna aliqua.\\nUt enim ad minim veniam, quis nostrud exercitation ullamco laboris nisi ut aliquip ex ea commodo consequat.\\nDuis aute irure dolor in reprehenderit in voluptate velit esse cillum dolore eu fugiat nulla pariatur.\\nExcepteur sint occaecat cupidatat non proident, sunt in culpa qui officia deserunt mollit anim id est laborum.\\n'"
            ],
            "application/vnd.google.colaboratory.intrinsic+json": {
              "type": "string"
            }
          },
          "metadata": {},
          "execution_count": 31
        }
      ]
    },
    {
      "cell_type": "markdown",
      "source": [
        "Давайте попробуем прочесть еще раз:"
      ],
      "metadata": {
        "id": "0DFKDfL8t8EH"
      }
    },
    {
      "cell_type": "code",
      "source": [
        "f_new.read()"
      ],
      "metadata": {
        "colab": {
          "base_uri": "https://localhost:8080/",
          "height": 35
        },
        "id": "MsRgr4uWt7pr",
        "outputId": "46d08500-a081-429f-b67c-375e1a5e8471"
      },
      "execution_count": 32,
      "outputs": [
        {
          "output_type": "execute_result",
          "data": {
            "text/plain": [
              "''"
            ],
            "application/vnd.google.colaboratory.intrinsic+json": {
              "type": "string"
            }
          },
          "metadata": {},
          "execution_count": 32
        }
      ]
    },
    {
      "cell_type": "markdown",
      "source": [
        "А почему ничего нет?\n",
        "\n",
        "![](https://chpic.su/_data/stickers/b/blyadskiepapugi/blyadskiepapugi_016.webp)"
      ],
      "metadata": {
        "id": "4yJI1El2uA99"
      }
    },
    {
      "cell_type": "markdown",
      "source": [
        "Дело в том, что чтение работает следующим образом:\n",
        "\n",
        "Мы по сути создаем бегунок, который проходит по файлу и его считывает поэлементно, двигая этот бегунок. И любой вызов read считывает всю эту часть и остается в конце\n",
        "\n",
        "Поэтому если вызвать два раза подряд, то во второй раз вы ничего не прочтете (бегунок сейчас не умеет назад), беда"
      ],
      "metadata": {
        "id": "aBc21O2FuNMs"
      }
    },
    {
      "cell_type": "markdown",
      "source": [
        "Давайте научимся двигать бегунок так, как нам бы хотелось. За это отвечают:\n",
        "\n",
        "1. read(n) - прочитай n символов от места бегунка\n",
        "\n",
        "2. tell() - скажи, на каком мы сейчас символе\n",
        "\n",
        "3. seek(offset) - перейди на место offset относительно начала файла"
      ],
      "metadata": {
        "id": "eT3EpY7Hu4jM"
      }
    },
    {
      "cell_type": "code",
      "source": [
        "with open(\"icantread.txt\", \"r\") as f: # с помощью with можно отдельно открыть файл и использовать его только внутри цикла, после цикла файл закроется\n",
        "    print(f.tell())\n",
        "    print(f.read(10)) #прочитай не весь текст, а только первые 10 символов\n",
        "    print(f.tell()) # скажи, на какой месте сейчас наш бегунок\n",
        "    print(f.seek(5)) #возьми начало файла и сдвинься на 5 символов\n",
        "    print(f.tell())\n",
        "    print(f.read(5))\n",
        "    print(f.tell())"
      ],
      "metadata": {
        "colab": {
          "base_uri": "https://localhost:8080/"
        },
        "id": "e0MLeS2Su89a",
        "outputId": "50086ac4-9225-4f59-96ce-8cfdca202ddd"
      },
      "execution_count": 33,
      "outputs": [
        {
          "output_type": "stream",
          "name": "stdout",
          "text": [
            "0\n",
            "\n",
            "Lorem ips\n",
            "10\n",
            "5\n",
            "5\n",
            "m ips\n",
            "10\n"
          ]
        }
      ]
    },
    {
      "cell_type": "markdown",
      "source": [
        "А как двигаться не относительно начала файла, а относительно текущего места?"
      ],
      "metadata": {
        "id": "C11PJlazxTUY"
      }
    },
    {
      "cell_type": "code",
      "source": [
        "with open(\"icantread.txt\", \"r\") as f:\n",
        "    print(f.read(10))\n",
        "    print(f.tell())\n",
        "    print(f.seek(f.tell() - 5)) #можно передавать просто сам tell!\n",
        "    print(f.tell())"
      ],
      "metadata": {
        "colab": {
          "base_uri": "https://localhost:8080/"
        },
        "id": "VJvvSkxFxZC_",
        "outputId": "19be1842-da43-4be5-8c69-dbb78e0ef559"
      },
      "execution_count": 34,
      "outputs": [
        {
          "output_type": "stream",
          "name": "stdout",
          "text": [
            "\n",
            "Lorem ips\n",
            "10\n",
            "5\n",
            "5\n"
          ]
        }
      ]
    },
    {
      "cell_type": "markdown",
      "source": [
        "В чем еще видим проблему? В том, что у нас тут появились в качестве отдельных знаков перевод строки (вообще все такие знаки типа табов etc будут отображаться)\n",
        "\n",
        "А может попробуем по линиям прочитать?"
      ],
      "metadata": {
        "id": "gnm9rFrQtVsr"
      }
    },
    {
      "cell_type": "code",
      "source": [
        "with open(\"icantread.txt\", \"r\") as f:\n",
        "    for line in f: # читает по линии до перевода строки\n",
        "        print(line.strip())\n",
        "        print(line)\n",
        "        print('-' * 30)"
      ],
      "metadata": {
        "colab": {
          "base_uri": "https://localhost:8080/"
        },
        "id": "SFGRADzpthdx",
        "outputId": "92304ffd-24df-408c-c949-c55cbed7a3c6"
      },
      "execution_count": 35,
      "outputs": [
        {
          "output_type": "stream",
          "name": "stdout",
          "text": [
            "\n",
            "\n",
            "\n",
            "------------------------------\n",
            "Lorem ipsum dolor sit amet, consectetur adipiscing elit, sed do eiusmod tempor incididunt ut labore et dolore magna aliqua.\n",
            "Lorem ipsum dolor sit amet, consectetur adipiscing elit, sed do eiusmod tempor incididunt ut labore et dolore magna aliqua.\n",
            "\n",
            "------------------------------\n",
            "Ut enim ad minim veniam, quis nostrud exercitation ullamco laboris nisi ut aliquip ex ea commodo consequat.\n",
            "Ut enim ad minim veniam, quis nostrud exercitation ullamco laboris nisi ut aliquip ex ea commodo consequat.\n",
            "\n",
            "------------------------------\n",
            "Duis aute irure dolor in reprehenderit in voluptate velit esse cillum dolore eu fugiat nulla pariatur.\n",
            "Duis aute irure dolor in reprehenderit in voluptate velit esse cillum dolore eu fugiat nulla pariatur.\n",
            "\n",
            "------------------------------\n",
            "Excepteur sint occaecat cupidatat non proident, sunt in culpa qui officia deserunt mollit anim id est laborum.\n",
            "Excepteur sint occaecat cupidatat non proident, sunt in culpa qui officia deserunt mollit anim id est laborum.\n",
            "\n",
            "------------------------------\n"
          ]
        }
      ]
    },
    {
      "cell_type": "markdown",
      "source": [
        "А еще умеем выводить просто с помощью print:\n"
      ],
      "metadata": {
        "id": "B0SHqDXRycIQ"
      }
    },
    {
      "cell_type": "markdown",
      "source": [
        "#### Учимся печатать и читать из одного места"
      ],
      "metadata": {
        "id": "3UVGsdQ_x-Fx"
      }
    },
    {
      "cell_type": "code",
      "source": [
        "fh = open('icantread.txt', 'r+') #r+ позволяет сразу и записывать, и читать\n",
        "\n",
        "fh.seek(11)\n",
        "print(fh.read(5))\n",
        "print(fh.tell())\n",
        "fh.seek(11)\n",
        "fh.write('WOWOWOWOWOWOO')\n",
        "fh.seek(0)\n",
        "content = fh.read()\n",
        "print(content)\n",
        "fh.close()"
      ],
      "metadata": {
        "colab": {
          "base_uri": "https://localhost:8080/"
        },
        "id": "3Emr4O75zQYy",
        "outputId": "c823ba78-e756-41f7-d53a-ac2907705ec9"
      },
      "execution_count": 36,
      "outputs": [
        {
          "output_type": "stream",
          "name": "stdout",
          "text": [
            "m dol\n",
            "16\n",
            "\n",
            "Lorem ipsuWOWOWOWOWOWOOmet, consectetur adipiscing elit, sed do eiusmod tempor incididunt ut labore et dolore magna aliqua.\n",
            "Ut enim ad minim veniam, quis nostrud exercitation ullamco laboris nisi ut aliquip ex ea commodo consequat.\n",
            "Duis aute irure dolor in reprehenderit in voluptate velit esse cillum dolore eu fugiat nulla pariatur.\n",
            "Excepteur sint occaecat cupidatat non proident, sunt in culpa qui officia deserunt mollit anim id est laborum.\n",
            "\n"
          ]
        }
      ]
    },
    {
      "cell_type": "markdown",
      "source": [
        "#### Почему нам нужно закрывать файлы после того как что-то написали?"
      ],
      "metadata": {
        "id": "zchshKIu80iD"
      }
    },
    {
      "cell_type": "markdown",
      "source": [
        "Рассмотрим такой пример где мы пытаемся прочитать из файла до его закрытия:"
      ],
      "metadata": {
        "id": "Yw3DFnxj0MYZ"
      }
    },
    {
      "cell_type": "code",
      "source": [
        "f = open(\"file.txt\", \"w\")\n",
        "f.write(\"This is line 1\\n\")\n",
        "f.write(\"This is line 2\\n\")\n",
        "\n",
        "with open(\"file.txt\", \"r\") as read_file:\n",
        "    print(\"File content:\")\n",
        "    print(read_file.read())\n",
        "\n",
        "f.close()"
      ],
      "metadata": {
        "id": "fRGX_zsZ86AM",
        "colab": {
          "base_uri": "https://localhost:8080/"
        },
        "outputId": "eb56cc1b-03d4-4312-bec3-c2ea092c0dce"
      },
      "execution_count": 38,
      "outputs": [
        {
          "output_type": "stream",
          "name": "stdout",
          "text": [
            "File content:\n",
            "\n"
          ]
        }
      ]
    },
    {
      "cell_type": "markdown",
      "source": [
        "Этот пример хорошо показывает почему все-таки необходимо закрывать файл после того как записали в него, ну или вызывать **flush()**, чтобы пролить наши изменения в файл. Посмотрим на исправленный вариант:"
      ],
      "metadata": {
        "id": "fOApV16N0P65"
      }
    },
    {
      "cell_type": "code",
      "source": [
        "f = open(\"file.txt\", \"w\")\n",
        "f.write(\"This is line 1\\n\")\n",
        "f.write(\"This is line 2\\n\")\n",
        "f.flush()\n",
        "\n",
        "with open(\"file.txt\", \"r\") as read_file:\n",
        "    print(\"File content:\")\n",
        "    print(read_file.read())\n",
        "\n",
        "f.close()"
      ],
      "metadata": {
        "colab": {
          "base_uri": "https://localhost:8080/"
        },
        "id": "YwK6tKsz0bHc",
        "outputId": "9991c130-9c24-4fcc-f9df-8800a15eb23d"
      },
      "execution_count": 39,
      "outputs": [
        {
          "output_type": "stream",
          "name": "stdout",
          "text": [
            "File content:\n",
            "This is line 1\n",
            "This is line 2\n",
            "\n"
          ]
        }
      ]
    },
    {
      "cell_type": "markdown",
      "source": [
        "#### Заключение"
      ],
      "metadata": {
        "id": "J3WZkyu4zfk3"
      }
    },
    {
      "cell_type": "markdown",
      "source": [
        "Умеем читать из файла, умеем записывать в файл, умеем читать и писать! В целом достаточно"
      ],
      "metadata": {
        "id": "X447WveXzhGw"
      }
    },
    {
      "cell_type": "markdown",
      "source": [
        "## Чуть-чуть про вывод данных"
      ],
      "metadata": {
        "id": "U3mxtVtx-1hz"
      }
    },
    {
      "cell_type": "markdown",
      "source": [
        "Давайте чуть-чуть поговорим про вывод (потому что он не настолько прост, как кажется)\n",
        "\n",
        "Самый базовый вывод:"
      ],
      "metadata": {
        "id": "-Z_J6gyP-4fP"
      }
    },
    {
      "cell_type": "code",
      "source": [
        "a = 5\n",
        "print(\"your number is:\", a, \", great\")"
      ],
      "metadata": {
        "colab": {
          "base_uri": "https://localhost:8080/"
        },
        "id": "KYdZnmUB_G5v",
        "outputId": "dd577c56-2316-4259-dd66-81391c587fdc"
      },
      "execution_count": null,
      "outputs": [
        {
          "output_type": "stream",
          "name": "stdout",
          "text": [
            "your number is: 5 , great\n"
          ]
        }
      ]
    },
    {
      "cell_type": "markdown",
      "source": [
        "Отлично, давайте попробуем вот так:"
      ],
      "metadata": {
        "id": "v6tO00TP_Vyf"
      }
    },
    {
      "cell_type": "code",
      "source": [
        "a = 5\n",
        "print(\"your number is:\", a, \", \\\\ngreat\")"
      ],
      "metadata": {
        "colab": {
          "base_uri": "https://localhost:8080/"
        },
        "id": "8eqm3TWG_ZYU",
        "outputId": "d604db83-5fca-4fd4-bf0f-35f98ff60a12"
      },
      "execution_count": null,
      "outputs": [
        {
          "output_type": "stream",
          "name": "stdout",
          "text": [
            "your number is: 5 , \\ngreat\n"
          ]
        }
      ]
    },
    {
      "cell_type": "markdown",
      "source": [
        "Что не так? Формально все так, перенос строки отработал, класс. А допустим, что нам нужно было вывести прям в таком формате (с переносом строки, хотим куда-нибудь это потом запихнуть), что делать?\n",
        "\n",
        "Для этого есть 4 представления строк:\n",
        "\n",
        "* r - raw строка (воспринимает строку буквально как есть)\n",
        "\n",
        "* f - format строка (форматирование строки, отдельно)\n",
        "\n",
        "* u - представление unicode (deprecated по сути, необходим для совместимости с Python 2, на данный момент не имеет смысла)\n",
        "\n",
        "* b - представление в байтах (в ситуации, если мы пытаемся прочесть данные в виде байтов, чаще всего картинки/звуки)\n",
        "\n",
        "А еще их можно сочетать"
      ],
      "metadata": {
        "id": "WWoz76HD_cTq"
      }
    },
    {
      "cell_type": "code",
      "source": [
        "a = 5\n",
        "print(r\"your number is:\", a, r\", \\ngreat\") #выводит строку буквально, как она есть"
      ],
      "metadata": {
        "colab": {
          "base_uri": "https://localhost:8080/"
        },
        "id": "BCnt80GDAkCm",
        "outputId": "b2cf210d-1a6b-4a65-9611-125535b3c65b"
      },
      "execution_count": null,
      "outputs": [
        {
          "output_type": "stream",
          "name": "stdout",
          "text": [
            "your number is: 5 , \\ngreat\n"
          ]
        }
      ]
    },
    {
      "cell_type": "code",
      "source": [
        "s = u\"中\" #наглядный пример ситуации, что могло бы работать и во втором питоне, и в третьем (но оно не нужно)\n",
        "print(s)"
      ],
      "metadata": {
        "colab": {
          "base_uri": "https://localhost:8080/"
        },
        "id": "2pfAU9J0AzYt",
        "outputId": "97de1ff3-b27b-4e17-9504-552652a4bc56"
      },
      "execution_count": null,
      "outputs": [
        {
          "output_type": "stream",
          "name": "stdout",
          "text": [
            "中\n"
          ]
        }
      ]
    },
    {
      "cell_type": "code",
      "source": [
        "s_1 = \"中\"\n",
        "print(s_1)"
      ],
      "metadata": {
        "colab": {
          "base_uri": "https://localhost:8080/"
        },
        "id": "kdXidBPLBdJQ",
        "outputId": "22f0e523-804d-4524-83cb-c64a87738cd2"
      },
      "execution_count": null,
      "outputs": [
        {
          "output_type": "stream",
          "name": "stdout",
          "text": [
            "中\n"
          ]
        }
      ]
    },
    {
      "cell_type": "markdown",
      "source": [
        "Самое интересное здесь - это конечно f-строки, или же форматированные строки. Что они позволяют?\n",
        "\n",
        "В первую очередь, не писать несколько аргументов, а запихнуть их в один:"
      ],
      "metadata": {
        "id": "64Ji94Q-Bz4X"
      }
    },
    {
      "cell_type": "code",
      "source": [
        "print(f\"your number is: {a}, great\") #в фигурных скобках указываются необходимые переменные, все достаточно просто!"
      ],
      "metadata": {
        "colab": {
          "base_uri": "https://localhost:8080/"
        },
        "id": "CbGgYoyIB82s",
        "outputId": "cda8eb04-b512-4eed-c784-24c9ab5dad7b"
      },
      "execution_count": null,
      "outputs": [
        {
          "output_type": "stream",
          "name": "stdout",
          "text": [
            "your number is: 5, great\n"
          ]
        }
      ]
    },
    {
      "cell_type": "markdown",
      "source": [
        "На самом деле f-строки в целом способны вызывать даже кусок кода, попробуем сделать что-нибудь такое:"
      ],
      "metadata": {
        "id": "xUJroDWqCMph"
      }
    },
    {
      "cell_type": "code",
      "source": [
        "def new_value(a):\n",
        "    if a == 1:\n",
        "        return 2\n",
        "    else:\n",
        "        return 3\n",
        "\n",
        "print(f\"your number is: {new_value(a)}, great\")"
      ],
      "metadata": {
        "colab": {
          "base_uri": "https://localhost:8080/"
        },
        "id": "S3zO_P4ECobE",
        "outputId": "e7e5910e-709a-410b-d886-d89448ace663"
      },
      "execution_count": 40,
      "outputs": [
        {
          "output_type": "stream",
          "name": "stdout",
          "text": [
            "your number is: 3, great\n"
          ]
        }
      ]
    },
    {
      "cell_type": "markdown",
      "source": [
        "Помимо этого, хорошо, что мы умеем форматировать значения:\n",
        "\n",
        "![](https://miro.medium.com/v2/resize:fit:1400/1*V4j4AFNf7PdPbB76Vbo_Yg.png)"
      ],
      "metadata": {
        "id": "-KL6BBeME1Q-"
      }
    },
    {
      "cell_type": "code",
      "source": [
        "a = 15.000005\n",
        "print(f\"your number is: {a:.4f}, great\")"
      ],
      "metadata": {
        "colab": {
          "base_uri": "https://localhost:8080/"
        },
        "id": "AYUrNQbEE8-2",
        "outputId": "c57ad137-d8e2-4f28-9896-6bbc8ca82041"
      },
      "execution_count": null,
      "outputs": [
        {
          "output_type": "stream",
          "name": "stdout",
          "text": [
            "your number is: 15.0000, great\n"
          ]
        }
      ]
    },
    {
      "cell_type": "code",
      "source": [
        "s = \"Python\"\n",
        "print(fr\"your number is: {s:.2s}, \\ngreat\")"
      ],
      "metadata": {
        "colab": {
          "base_uri": "https://localhost:8080/"
        },
        "id": "OzLftCYwFF65",
        "outputId": "1826707e-da18-4b6b-9107-1d171ff74150"
      },
      "execution_count": null,
      "outputs": [
        {
          "output_type": "stream",
          "name": "stdout",
          "text": [
            "your number is: Py, \\ngreat\n"
          ]
        }
      ]
    },
    {
      "cell_type": "markdown",
      "source": [
        "Дополнительно про f-строки: [Тык](https://fstring.help/)\n",
        "\n",
        "И дополнительно, почему их стоит использовать: они быстрые!"
      ],
      "metadata": {
        "id": "XovdLNmHUTCm"
      }
    },
    {
      "cell_type": "code",
      "source": [
        "import timeit\n",
        "\n",
        "setup = \"\"\"\n",
        "integer = 42\n",
        "string = 'FORTY_TWO'\n",
        "\"\"\".strip()\n",
        "\n",
        "percent_stmt =\"'Number %s or simply %d' % (string, integer)\"\n",
        "call_stmt = \"'Number {} or simply {}'.format(string, integer)\"\n",
        "fstr_stmt = \"\"\"f'Number {string} or simply {integer}'\"\"\"\n",
        "\n",
        "\n",
        "def time(stmt):\n",
        "    return f\"{timeit.timeit(stmt, setup, number=int(1e7)):.3f}\"\n",
        "\n",
        "print(f\"Timing percent formating:    |  {time(percent_stmt)}\")\n",
        "print(f\"Timing call formating:       |  {time(call_stmt)}\")\n",
        "print(f\"Timing f-string formating:   |  {time(fstr_stmt)}\")"
      ],
      "metadata": {
        "colab": {
          "base_uri": "https://localhost:8080/"
        },
        "id": "EVr7FE1HDqXw",
        "outputId": "93213fbf-21ac-4352-d1c8-f609ca349ac5"
      },
      "execution_count": 41,
      "outputs": [
        {
          "output_type": "stream",
          "name": "stdout",
          "text": [
            "Timing percent formating:    |  2.424\n",
            "Timing call formating:       |  2.965\n",
            "Timing f-string formating:   |  1.501\n"
          ]
        }
      ]
    }
  ]
}