{
 "cells": [
  {
   "cell_type": "markdown",
   "id": "aff97e0a",
   "metadata": {},
   "source": [
    "# Python-1, Лекция 8\n",
    "\n",
    "Лектор: Хайбулин Даниэль"
   ]
  }
 ],
 "metadata": {
  "language_info": {
   "name": "python"
  }
 },
 "nbformat": 4,
 "nbformat_minor": 5
}
