{
 "cells": [
  {
   "cell_type": "markdown",
   "id": "19a0aeac",
   "metadata": {},
   "source": [
    "# Python-1, Лекция 10\n",
    "\n",
    "Лектор: Хайбулин Даниэль"
   ]
  },
  {
   "cell_type": "markdown",
   "id": "6fe64bd5",
   "metadata": {},
   "source": []
  }
 ],
 "metadata": {
  "language_info": {
   "name": "python"
  }
 },
 "nbformat": 4,
 "nbformat_minor": 5
}
