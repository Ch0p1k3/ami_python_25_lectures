{
  "cells": [
    {
      "cell_type": "markdown",
      "metadata": {
        "id": "vNu_IYXVKq7F"
      },
      "source": [
        "# Python-1, Лекция 5\n",
        "\n",
        "Лектор: Хайбулин Даниэль"
      ]
    },
    {
      "cell_type": "markdown",
      "metadata": {},
      "source": [
        "Итак, сегодня мы поговорим про модули `collections` и `itertools`"
      ]
    },
    {
      "cell_type": "markdown",
      "metadata": {},
      "source": [
        "### Collections"
      ]
    },
    {
      "cell_type": "markdown",
      "metadata": {},
      "source": [
        "`collections` — это стандартный модуль Python, предоставляющий дополнительные структуры данных и функции, такие как `namedtuple`, `deque`, `Counter`, `OrderedDict`, `defaultdict` и другие. Эти структуры расширяют базовые возможности встроенных типов данных и позволяют более эффективно и удобно решать широкий спектр программных задач, связанных с обработкой и хранением данных.\n",
        "\n",
        "На практике, как правило, наиболее часто используются такие структуры из модуля `collections`, как `defaultdict` и `namedtuple` (особенно актуален `namedtuple` при необходимости поддержки кода на `Python 2` или поддержки совместимости с `Python 2`)."
      ]
    },
    {
      "cell_type": "markdown",
      "metadata": {},
      "source": [
        "#### defaultdict"
      ]
    },
    {
      "cell_type": "markdown",
      "metadata": {},
      "source": [
        "`defaultdict` — это специализированный класс, который позволяет автоматически создавать и присваивать значения для отсутствующих ключей на основе заданной функции (или объекта, у которого определен *dunder-метод* `__call__`) по умолчанию (`default_factory`). При обращении к несуществующему ключу в таком словаре новый элемент автоматически добавляется и инициализируется значением, возвращаемым функцией по умолчанию, что избавляет от необходимости явно проверять наличие ключа или использовать метод `get`. Во всех остальных отношениях `defaultdict` полностью совместим с обычным словарём."
      ]
    },
    {
      "cell_type": "code",
      "execution_count": null,
      "metadata": {},
      "outputs": [],
      "source": [
        "from collections import defaultdict\n",
        "\n",
        "\n",
        "dct = defaultdict(float)\n",
        "\n",
        "dct[2]"
      ]
    },
    {
      "cell_type": "code",
      "execution_count": null,
      "metadata": {},
      "outputs": [],
      "source": [
        "from collections import defaultdict\n",
        "\n",
        "\n",
        "dct = defaultdict(list)\n",
        "\n",
        "dct[2]"
      ]
    },
    {
      "cell_type": "markdown",
      "metadata": {},
      "source": [
        "Если не передавать функцию по умолчанию (или передать `None`), `defaultdict` по сути ведёт себя как обычный `dict`: не создаёт новых элементов автоматически и выбрасывает `KeyError` при обращении к отсутствующему ключу.\n",
        "\n",
        "\n",
        "Использование defaultdict без указания функции по умолчанию (default_factory=None) не рекомендуется, поскольку такой подход может ввести в заблуждение разработчиков, сопровождающих код."
      ]
    },
    {
      "cell_type": "code",
      "execution_count": null,
      "metadata": {},
      "outputs": [],
      "source": [
        "from collections import defaultdict\n",
        "\n",
        "\n",
        "dct = defaultdict()\n",
        "\n",
        "dct[2]"
      ]
    },
    {
      "cell_type": "code",
      "execution_count": null,
      "metadata": {},
      "outputs": [],
      "source": [
        "from collections import defaultdict\n",
        "\n",
        "\n",
        "dct = defaultdict(None)\n",
        "\n",
        "dct[2]"
      ]
    },
    {
      "cell_type": "markdown",
      "metadata": {},
      "source": [
        "##### Сравнение использования dict и defaultdict"
      ]
    },
    {
      "cell_type": "code",
      "execution_count": null,
      "metadata": {},
      "outputs": [],
      "source": [
        "counter = dict()\n",
        "\n",
        "elements = ['apple', 'banana', 'apple', 'orange', 'banana', 'apple']\n",
        "\n",
        "for fruit in elements:\n",
        "    if fruit not in counter:\n",
        "        counter[fruit] = 0\n",
        "    counter[fruit] += 1\n",
        "\n",
        "print(counter)"
      ]
    },
    {
      "cell_type": "markdown",
      "metadata": {},
      "source": [
        "с использованием `get`:"
      ]
    },
    {
      "cell_type": "code",
      "execution_count": null,
      "metadata": {},
      "outputs": [],
      "source": [
        "counter = dict()\n",
        "\n",
        "elements = ['apple', 'banana', 'apple', 'orange', 'banana', 'apple']\n",
        "\n",
        "for fruit in elements:\n",
        "    counter[fruit] = counter.get(fruit, 0) + 1\n",
        "\n",
        "print(counter)"
      ]
    },
    {
      "cell_type": "code",
      "execution_count": null,
      "metadata": {},
      "outputs": [],
      "source": [
        "from collections import defaultdict\n",
        "\n",
        "\n",
        "# Создаем defaultdict с функцией (int) по умолчанию, которая возвращает 0\n",
        "counter = defaultdict(int)\n",
        "# Можно еще написать так (это больше для понимая того, что во внутрь передается объект, который мы можем вызвать через круглые скобки), но такой код писать не стоит\n",
        "# counter = defaultdict(lambda : 0)\n",
        "\n",
        "elements = ['apple', 'banana', 'apple', 'orange', 'banana', 'apple']\n",
        "\n",
        "for fruit in elements:\n",
        "    counter[fruit] += 1\n",
        "\n",
        "print(counter)"
      ]
    },
    {
      "cell_type": "markdown",
      "metadata": {},
      "source": [
        "С помощью `defaultdict` не требуется явно проверять наличие ключа или использовать метод `.get()` для установки значения по умолчанию. Это уменьшает количество шаблонного кода и делает логику работы с данными более понятной."
      ]
    },
    {
      "cell_type": "markdown",
      "metadata": {},
      "source": [
        "##### Антипатерны"
      ]
    },
    {
      "cell_type": "markdown",
      "metadata": {},
      "source": [
        "Не рекомендуется выполнять проверки наличия ключа в defaultdict посредством обращения к элементу по индексу. Такой подход может привести к неявному созданию новых элементов для отсутствующих ключей, что, в свою очередь, увеличит размер структуры данных и может повлиять на потребление памяти и производительность"
      ]
    },
    {
      "cell_type": "code",
      "execution_count": null,
      "metadata": {},
      "outputs": [],
      "source": [
        "# неправильно\n",
        "\n",
        "dct = defaultdict(float)\n",
        "\n",
        "for i in range(5):\n",
        "    if dct[i] == 0:\n",
        "        print(\"Found\")\n",
        "\n",
        "dct"
      ]
    },
    {
      "cell_type": "code",
      "execution_count": null,
      "metadata": {},
      "outputs": [],
      "source": [
        "# правильно\n",
        "\n",
        "dct = defaultdict(float)\n",
        "\n",
        "for i in range(5):\n",
        "    if i in dct:\n",
        "        print(\"Found\")\n",
        "\n",
        "dct"
      ]
    },
    {
      "cell_type": "markdown",
      "metadata": {},
      "source": [
        "Что не так с кодом? Какой будет вывод?"
      ]
    },
    {
      "cell_type": "code",
      "execution_count": null,
      "metadata": {},
      "outputs": [],
      "source": [
        "# неправильно\n",
        "\n",
        "lst = []\n",
        "dct = defaultdict(lambda : lst)\n",
        "\n",
        "for i in range(5):\n",
        "    dct[i].append(1)\n",
        "\n",
        "dct"
      ]
    },
    {
      "cell_type": "code",
      "execution_count": null,
      "metadata": {},
      "outputs": [],
      "source": [
        "# правильно\n",
        "\n",
        "dct = defaultdict(list)\n",
        "\n",
        "for i in range(5):\n",
        "    dct[i].append(1)\n",
        "\n",
        "dct"
      ]
    },
    {
      "cell_type": "markdown",
      "metadata": {},
      "source": [
        "#### namedtuple"
      ]
    },
    {
      "cell_type": "markdown",
      "metadata": {},
      "source": [
        "`namedtuple` — это **функция** из модуля `collections`, позволяющая создавать неизменяемые (**immutable**) объекты-кортежи с именованными полями. Такая структура обеспечивает удобный доступ к полям как по имени, так и по индексу, сохраняя компактность и неизменяемость стандартных кортежей."
      ]
    },
    {
      "cell_type": "code",
      "execution_count": null,
      "metadata": {},
      "outputs": [],
      "source": [
        "from collections import namedtuple\n",
        "\n",
        "Point = namedtuple('Point', ['x', 'y'])\n",
        "p1 = Point(2, 3)\n",
        "\n",
        "print(p1.x)     # 2\n",
        "\n",
        "# Как правило, при использовании namedtuple обращения к элементам по индексам не применяются,\n",
        "# поскольку такой подход снижает читаемость и ясность кода.\n",
        "# Вместо этого рекомендуется использовать доступ к значениям по именованным полям,\n",
        "# что делает структуру данных более наглядной и облегчает сопровождение программы.\n",
        "print(p1[1])    # 3\n",
        "\n",
        "print(p1)       # Point(x=2, y=3)\n",
        "\n",
        "# Нечитаемый код\n",
        "result = p1[0] + p1[1]  # Не понятно, что тут x и y\n",
        "print(result)"
      ]
    },
    {
      "cell_type": "markdown",
      "metadata": {},
      "source": [
        "Еще раз хочется повториться, что `namedtuple` создает именно неизменяемые объекты"
      ]
    },
    {
      "cell_type": "code",
      "execution_count": null,
      "metadata": {},
      "outputs": [],
      "source": [
        "Point = namedtuple('Point', ['x', 'y'])\n",
        "p = Point(1, 2)\n",
        "p.x = 5"
      ]
    },
    {
      "cell_type": "markdown",
      "metadata": {},
      "source": [
        "Начиная с `Python 3.7`, был добавлен модуль `dataclasses` для удобного создания классов данных. Классы, оформленные с помощью `@dataclass` могут быть как изменяемыми, так и неизменяемыми (при использовании параметра `frozen=True`). Чуть подробнее познакомимся с этим декоратором в дальнейших лекциях. На данном этапе не обязательно подробно разбираться в понятиях \"декоратор\" и \"класс\". Это темы, которые будут рассмотрены отдельными блоками позже, и их понимание не критично для начального освоения работы с `dataclass`."
      ]
    },
    {
      "cell_type": "code",
      "execution_count": null,
      "metadata": {},
      "outputs": [],
      "source": [
        "from dataclasses import dataclass\n",
        "\n",
        "\n",
        "@dataclass(frozen=True)\n",
        "class Point:\n",
        "    x: int\n",
        "    y: int\n",
        "\n",
        "\n",
        "p2 = Point(2, 3)\n",
        "print(p2.x)     # 2\n",
        "print(p2)       # Point(x=2, y=3)\n"
      ]
    },
    {
      "cell_type": "markdown",
      "metadata": {},
      "source": [
        "Из-за `frozen=True` не можем менять значения полей:"
      ]
    },
    {
      "cell_type": "code",
      "execution_count": null,
      "metadata": {},
      "outputs": [],
      "source": [
        "p2.x = 3"
      ]
    },
    {
      "cell_type": "markdown",
      "metadata": {},
      "source": [
        "В современных версиях Python (**начиная с 3.7**) рекомендуется отдавать предпочтение `dataclass` вместо `namedtuple` для создания структур данных. Это связано с тем, что `dataclass` обеспечивает большую гибкость, расширяемость и выразительность."
      ]
    },
    {
      "cell_type": "markdown",
      "metadata": {},
      "source": [
        "#### Counter"
      ]
    },
    {
      "cell_type": "markdown",
      "metadata": {},
      "source": [
        "`Counter` — это специализированный класс, предназначенный для подсчёта количества вхождений элементов в итерируемых объектах (строках, списках и т.д.). По сути, это словарь, где ключами являются элементы, а значениями — количество их появлений."
      ]
    },
    {
      "cell_type": "code",
      "execution_count": null,
      "metadata": {},
      "outputs": [],
      "source": [
        "from collections import Counter\n",
        "\n",
        "\n",
        "lst = ['apple', 'banana', 'apple', 'orange', 'banana', 'apple']\n",
        "c = Counter(lst)\n",
        "print(c)"
      ]
    },
    {
      "cell_type": "markdown",
      "metadata": {},
      "source": [
        "подсчёт символов в строке:"
      ]
    },
    {
      "cell_type": "code",
      "execution_count": null,
      "metadata": {},
      "outputs": [],
      "source": [
        "from collections import Counter\n",
        "\n",
        "\n",
        "text = 'abracadabra'\n",
        "c = Counter(text)\n",
        "print(c)"
      ]
    },
    {
      "cell_type": "markdown",
      "metadata": {},
      "source": [
        "Использование метода `most_common()`:"
      ]
    },
    {
      "cell_type": "code",
      "execution_count": null,
      "metadata": {},
      "outputs": [],
      "source": [
        "from collections import Counter\n",
        "\n",
        "\n",
        "words = ['cat', 'dog', 'cat', 'mouse', 'dog', 'cat']\n",
        "c = Counter(words)\n",
        "print(c.most_common(2))"
      ]
    },
    {
      "cell_type": "markdown",
      "metadata": {},
      "source": [
        "Получение элементов с повторениями:"
      ]
    },
    {
      "cell_type": "code",
      "execution_count": null,
      "metadata": {},
      "outputs": [],
      "source": [
        "from collections import Counter\n",
        "\n",
        "\n",
        "c = Counter(a=2, b=3, c=1)\n",
        "print(list(c.elements()))"
      ]
    },
    {
      "cell_type": "markdown",
      "metadata": {},
      "source": [
        "Так как `Counter` является специализированным подклассом стандартного словаря (`dict`), с объектами этого типа можно выполнять все основные операции, доступные для словарей. Это включает в себя обращение по ключу, изменение значений, итерирование по элементам, а также использование таких методов, как `.items()`, `.keys()`, `.values()`, и других стандартных методов словаря. Таким образом, `Counter` полностью совместим с интерфейсом обычного словаря, что позволяет использовать его во всех контекстах, где ожидается стандартный словарь `Python`."
      ]
    },
    {
      "cell_type": "markdown",
      "metadata": {},
      "source": [
        "#### Deque"
      ]
    },
    {
      "cell_type": "markdown",
      "metadata": {},
      "source": [
        "`Deque` — двусторонняя очередь. Является специализированной структурой данных, обеспечивающей эффективное добавление и удаление элементов с обоих концов очереди за константное время (`O(1)`). Это делает её предпочтительной для задач, связанных с реализацией стеков, очередей, а также сценариев с частым доступом к начальному и конечному элементам последовательности. В остальном `deque` поддерживает основные операции стандартных последовательностей Python.\n",
        "\n",
        "* `Stack` - LIFO (last in first out) - гора тарелок\n",
        "\n",
        "* `Queue` - FIFO (first in first out) - очередь в банке\n",
        "\n",
        "* `Deque` - Двусторонняя очередь (можно добавлять и забирать как с конца, так и с начала)"
      ]
    },
    {
      "cell_type": "markdown",
      "metadata": {},
      "source": [
        "С помощью deque можно создать двустороннюю очередь из любой последовательности, например из списка строк. После создания можем вывести все элементы очереди."
      ]
    },
    {
      "cell_type": "code",
      "execution_count": null,
      "metadata": {},
      "outputs": [],
      "source": [
        "from collections import deque\n",
        "\n",
        "\n",
        "s = ['ab', 'ab', 'bc', 'cd', 'ab']\n",
        "d = deque(s)\n",
        "print(d)\n",
        "\n",
        "print('-' * 30)\n",
        "\n",
        "for elem in d:\n",
        "    print(elem)\n",
        "\n",
        "print('-' * 30)"
      ]
    },
    {
      "cell_type": "markdown",
      "metadata": {},
      "source": [
        "Методы `.append()` и `.appendleft()` позволяют добавлять элементы в конец и начало очереди соответственно. С помощью .extend() и .extendleft() можно добавить несколько элементов сразу."
      ]
    },
    {
      "cell_type": "code",
      "execution_count": null,
      "metadata": {},
      "outputs": [],
      "source": [
        "d.append('aa')          # Добавление в конец\n",
        "d.appendleft('dd')      # Добавление в начало\n",
        "d.extend(['hh', 'pp'])  # Добавление нескольких элементов в конец\n",
        "d.extendleft(['hh', 'pp']) # Добавление нескольких элементов в начало\n",
        "\n",
        "print(d)"
      ]
    },
    {
      "cell_type": "markdown",
      "metadata": {},
      "source": [
        "Методы `.pop()` и `.popleft()` удаляют и возвращают элементы соответственно с правого и левого конца очереди."
      ]
    },
    {
      "cell_type": "code",
      "execution_count": null,
      "metadata": {},
      "outputs": [],
      "source": [
        "print(d.pop())      # Удаляет последний элемент\n",
        "print(d.popleft())  # Удаляет первый элемент\n",
        "print(d)"
      ]
    },
    {
      "cell_type": "markdown",
      "metadata": {},
      "source": [
        "Можно обращаться к элементам по индексу, а также использовать методы `.count()` для подсчета вхождений и `.index()` для поиска индекса первого вхождения."
      ]
    },
    {
      "cell_type": "code",
      "execution_count": null,
      "metadata": {},
      "outputs": [],
      "source": [
        "print(d[0])         # Первый элемент\n",
        "print(d[-2])        # Второй элемент с конца\n",
        "print(d.count('hh'))# Число вхождений 'hh'"
      ]
    },
    {
      "cell_type": "markdown",
      "metadata": {},
      "source": [
        "Метод `.rotate(n)` сдвигает элементы очереди на `n` позиций вправо (если `n` положительно) или влево (если `n` отрицательно). Метод `.reverse()` разворачивает очередь."
      ]
    },
    {
      "cell_type": "code",
      "execution_count": null,
      "metadata": {},
      "outputs": [],
      "source": [
        "d.rotate(1)    # Сдвиг на 1 вправо\n",
        "print(d)\n",
        "d.rotate(-2)   # Сдвиг на 2 влево\n",
        "print(d)\n",
        "d.reverse()    # Разворот очереди\n",
        "print(d)"
      ]
    },
    {
      "cell_type": "markdown",
      "metadata": {},
      "source": [
        "Можно вставлять элементы по заданному индексу с помощью `.insert()`, находить их позицию методом `.index()`, а также удалять первое вхождение определенного значения с помощью `.remove()`."
      ]
    },
    {
      "cell_type": "code",
      "execution_count": null,
      "metadata": {},
      "outputs": [],
      "source": [
        "d.insert(1, 'x')    # Вставка элемента на позицию 1\n",
        "print(d)\n",
        "print(d.index('x')) # Индекс элемента 'x'\n",
        "d.remove('x')       # Удаление первого 'x'\n",
        "print(d)"
      ]
    },
    {
      "cell_type": "markdown",
      "metadata": {},
      "source": [
        "#### OrderedDict"
      ]
    },
    {
      "cell_type": "markdown",
      "metadata": {},
      "source": [
        "`OrderedDict` — это подкласс стандартного словаря (`dict`) из модуля collections, который сохраняет порядок добавления элементов. То есть, при итерировании по `OrderedDict` элементы возвращаются именно в том порядке, в каком были добавлены. Кроме этого, `OrderedDict` предоставляет дополнительные методы, такие как `move_to_end() `и `popitem(last=True/False)`, которые позволяют манипулировать порядком элементов внутри структуры."
      ]
    },
    {
      "cell_type": "code",
      "execution_count": null,
      "metadata": {},
      "outputs": [],
      "source": [
        "from collections import OrderedDict\n",
        "\n",
        "\n",
        "d = OrderedDict()\n",
        "d['one'] = 1\n",
        "d['two'] = 2\n",
        "d['three'] = 3\n",
        "\n",
        "for key, value in d.items():\n",
        "    print(key, value)"
      ]
    },
    {
      "cell_type": "markdown",
      "metadata": {},
      "source": [
        "Использование методов `move_to_end` и `popitem`:"
      ]
    },
    {
      "cell_type": "code",
      "execution_count": null,
      "metadata": {},
      "outputs": [],
      "source": [
        "d.move_to_end('one')  # Перемещает 'one' в конец\n",
        "print(list(d.keys()))  # ['two', 'three', 'one']\n",
        "\n",
        "d.popitem(last=False)  # Убирает первый элемент ('two')\n",
        "print(list(d.keys()))  # ['three', 'one']\n",
        "\n",
        "d.popitem()  # Убирает последний элемент ('one'), по умолчанию last=True\n",
        "print(list(d.keys()))  # ['three']"
      ]
    },
    {
      "cell_type": "markdown",
      "metadata": {},
      "source": [
        "Начиная с версии `Python 3.7` (официально задокументировано в `Python 3.7`), стандартный `dict` сохраняет порядок добавления элементов точно так же, как это делал `OrderedDict`. Таким образом, во многих ситуациях надобность в использовании `OrderedDict` исчезла, и для большинства задач достаточно обычного словаря."
      ]
    },
    {
      "cell_type": "markdown",
      "metadata": {},
      "source": [
        "Когда все ещё полезен `OrderedDict`?\n",
        "\n",
        "- Если требуются специальные методы (`move_to_end`, `popitem` с параметром). Например, при реализации логики `lru_cache`, очень удобно использовать именно `OrderedDict`. \n",
        "- Если важен явный контракт на поддержку порядка в старых версиях `Python (< 3.7)`.\n",
        "- При использовании во внешних библиотеках или при совместимости с кодом, где порядок критически важен именно на уровне типа данных.\n"
      ]
    },
    {
      "cell_type": "markdown",
      "metadata": {},
      "source": [
        "#### heapq"
      ]
    },
    {
      "cell_type": "code",
      "execution_count": null,
      "metadata": {},
      "outputs": [],
      "source": []
    },
    {
      "cell_type": "markdown",
      "metadata": {},
      "source": [
        "### Itertools"
      ]
    },
    {
      "cell_type": "markdown",
      "metadata": {},
      "source": []
    }
  ],
  "metadata": {
    "colab": {
      "provenance": []
    },
    "kernelspec": {
      "display_name": ".venv",
      "language": "python",
      "name": "python3"
    },
    "language_info": {
      "codemirror_mode": {
        "name": "ipython",
        "version": 3
      },
      "file_extension": ".py",
      "mimetype": "text/x-python",
      "name": "python",
      "nbconvert_exporter": "python",
      "pygments_lexer": "ipython3",
      "version": "3.13.5"
    }
  },
  "nbformat": 4,
  "nbformat_minor": 0
}
