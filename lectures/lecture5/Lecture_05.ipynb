{
  "cells": [
    {
      "cell_type": "markdown",
      "metadata": {
        "id": "vNu_IYXVKq7F"
      },
      "source": [
        "# Python-1, Лекция 5\n",
        "\n",
        "Лектор: Хайбулин Даниэль"
      ]
    },
    {
      "cell_type": "markdown",
      "metadata": {},
      "source": [
        "Итак, сегодня мы поговорим про модули `collections` и `itertools`"
      ]
    },
    {
      "cell_type": "markdown",
      "metadata": {},
      "source": [
        "### Collections"
      ]
    },
    {
      "cell_type": "markdown",
      "metadata": {},
      "source": [
        "`collections` — это стандартный модуль Python, предоставляющий дополнительные структуры данных, такие как `namedtuple`, `deque`, `Counter`, `OrderedDict`, `defaultdict` и другие. Эти структуры расширяют базовые возможности встроенных типов данных и позволяют более эффективно и удобно решать широкий спектр программных задач, связанных с обработкой и хранением данных.\n",
        "\n",
        "На практике, как правило, наиболее часто используются такие структуры из модуля `collections`, как `defaultdict` и `namedtuple` (особенно актуален `namedtuple` при необходимости поддержки кода на `Python 2` или поддержки совместимости с `Python 2`)."
      ]
    },
    {
      "cell_type": "markdown",
      "metadata": {},
      "source": [
        "#### defaultdict"
      ]
    },
    {
      "cell_type": "markdown",
      "metadata": {},
      "source": [
        "`defaultdict` — это специализированный класс, который позволяет автоматически создавать и присваивать значения для отсутствующих ключей на основе заданной функции (или объекта, у которого определен dunder-метод `__call__`) по умолчанию (`default_factory`). При обращении к несуществующему ключу в таком словаре новый элемент автоматически добавляется и инициализируется значением, возвращаемым функцией по умолчанию, что избавляет от необходимости явно проверять наличие ключа или использовать метод get. Во всех остальных отношениях defaultdict полностью совместим с обычным словарём."
      ]
    },
    {
      "cell_type": "code",
      "execution_count": null,
      "metadata": {},
      "outputs": [],
      "source": [
        "from collections import defaultdict\n",
        "\n",
        "\n",
        "dct = defaultdict(float)\n",
        "\n",
        "dct[2]"
      ]
    },
    {
      "cell_type": "code",
      "execution_count": null,
      "metadata": {},
      "outputs": [],
      "source": [
        "from collections import defaultdict\n",
        "dct = defaultdict(list)\n",
        "\n",
        "dct[2]"
      ]
    },
    {
      "cell_type": "markdown",
      "metadata": {},
      "source": [
        "Начиная с `Python 3.12`, аргумент `default_factory` стал необязательным при создании экземпляра `defaultdict`. Теперь, если не передавать функцию по умолчанию, `defaultdict` по сути ведёт себя как обычный `dict`: не создаёт новых элементов автоматически и выбрасывает `KeyError` при обращении к отсутствующему ключу.\n",
        "\n",
        "https://python.godbolt.org/z/rTsE7fTq4 - `python 3.13`\n",
        "\n",
        "\n",
        "Но так использовать defaultdict не стоит, так как вы смутите разработчика, который будет поддерживать ваш код"
      ]
    },
    {
      "cell_type": "code",
      "execution_count": null,
      "metadata": {},
      "outputs": [],
      "source": []
    },
    {
      "cell_type": "code",
      "execution_count": 19,
      "metadata": {},
      "outputs": [],
      "source": [
        "from collections import defaultdict\n",
        "\n",
        "\n",
        "dct = defaultdict()"
      ]
    },
    {
      "cell_type": "code",
      "execution_count": null,
      "metadata": {},
      "outputs": [],
      "source": [
        "counter = dict()\n",
        "\n",
        "elements = ['apple', 'banana', 'apple', 'orange', 'banana', 'apple']\n",
        "\n",
        "for fruit in elements:\n",
        "    if fruit not in counter:\n",
        "        counter[fruit] = 0\n",
        "    counter[fruit] += 1\n",
        "\n",
        "print(counter)"
      ]
    },
    {
      "cell_type": "code",
      "execution_count": null,
      "metadata": {},
      "outputs": [],
      "source": [
        "from collections import defaultdict\n",
        "\n",
        "\n",
        "# Создаем defaultdict с функцией по умолчанию, которая возвращает 0\n",
        "counter = defaultdict(int)\n",
        "\n",
        "elements = ['apple', 'banana', 'apple', 'orange', 'banana', 'apple']\n",
        "\n",
        "for fruit in elements:\n",
        "    counter[fruit] += 1\n",
        "\n",
        "print(counter)"
      ]
    },
    {
      "cell_type": "markdown",
      "metadata": {},
      "source": [
        "Не рекомендуется выполнять проверки наличия ключа в defaultdict посредством обращения к элементу по индексу. Такой подход может привести к неявному созданию новых элементов для отсутствующих ключей, что, в свою очередь, увеличит размер структуры данных и может повлиять на потребление памяти и производительность"
      ]
    },
    {
      "cell_type": "code",
      "execution_count": null,
      "metadata": {},
      "outputs": [],
      "source": [
        "# неправильно\n",
        "\n",
        "dct = defaultdict(float)\n",
        "\n",
        "for i in range(5):\n",
        "    if dct[i] == 0:\n",
        "        print(\"Found\")\n",
        "\n",
        "dct"
      ]
    },
    {
      "cell_type": "code",
      "execution_count": null,
      "metadata": {},
      "outputs": [],
      "source": [
        "# правильно\n",
        "\n",
        "dct = defaultdict(float)\n",
        "\n",
        "for i in range(5):\n",
        "    if i in dct:\n",
        "        print(\"Found\")\n",
        "\n",
        "dct"
      ]
    },
    {
      "cell_type": "markdown",
      "metadata": {},
      "source": [
        "#### namedtuple"
      ]
    },
    {
      "cell_type": "markdown",
      "metadata": {},
      "source": [
        "`namedtuple` — это функция из модуля `collections`, позволяющая создавать неизменяемые (**immutable**) объекты-кортежи с именованными полями. Такая структура обеспечивает удобный доступ к полям как по имени, так и по индексу, сохраняя компактность и неизменяемость стандартных кортежей."
      ]
    },
    {
      "cell_type": "code",
      "execution_count": null,
      "metadata": {},
      "outputs": [],
      "source": [
        "from collections import namedtuple\n",
        "\n",
        "Point = namedtuple('Point', ['x', 'y'])\n",
        "p1 = Point(2, 3)\n",
        "\n",
        "print(p1.x)     # 2\n",
        "\n",
        "# Как правило, при использовании namedtuple обращения к элементам по индексам не применяются,\n",
        "# поскольку такой подход снижает читаемость и ясность кода.\n",
        "# Вместо этого рекомендуется использовать доступ к значениям по именованным полям,\n",
        "# что делает структуру данных более наглядной и облегчает сопровождение программы.\n",
        "print(p1[1])    # 3\n",
        "\n",
        "print(p1)       # Point(x=2, y=3)\n"
      ]
    },
    {
      "cell_type": "markdown",
      "metadata": {},
      "source": [
        "Начиная с `Python 3.7`, был добавлен декоратор `@dataclass` в модуль `dataclasses` для удобного создания классов данных. Классы, оформленные с помощью `@dataclass` могут быть как изменяемыми, так и неизменяемыми (при использовании параметра `frozen=True`). Чуть подробнее познакомимся с этим декоратором в дальнейших лекциях. На данном этапе не обязательно подробно разбираться в понятиях \"декоратор\" и \"класс\". Это темы, которые будут рассмотрены отдельными блоками позже, и их понимание не критично для начального освоения работы с `dataclass`."
      ]
    },
    {
      "cell_type": "code",
      "execution_count": null,
      "metadata": {},
      "outputs": [],
      "source": [
        "from dataclasses import dataclass\n",
        "\n",
        "\n",
        "@dataclass(frozen=True)\n",
        "class Point:\n",
        "    x: int\n",
        "    y: int\n",
        "\n",
        "p2 = Point(2, 3)\n",
        "print(p2.x)     # 2\n",
        "print(p2)       # Point(x=2, y=3)\n"
      ]
    },
    {
      "cell_type": "markdown",
      "metadata": {},
      "source": [
        "#### Counter"
      ]
    },
    {
      "cell_type": "code",
      "execution_count": null,
      "metadata": {},
      "outputs": [],
      "source": [
        "from collections import Counter\n",
        "\n",
        "\n",
        "s = ['ab', 'ab', 'bc', 'cd', 'ab']\n",
        "c = Counter(s)\n",
        "\n",
        "print(c)"
      ]
    },
    {
      "cell_type": "markdown",
      "metadata": {},
      "source": [
        "#### Deque"
      ]
    },
    {
      "cell_type": "markdown",
      "metadata": {},
      "source": [
        "`Deque` — двусторонняя очередь. Является специализированной структурой данных, обеспечивающей эффективное добавление и удаление элементов с обоих концов очереди за константное время (`O(1)`). Это делает её предпочтительной для задач, связанных с реализацией стеков, очередей, а также сценариев с частым доступом к начальному и конечному элементам последовательности. В остальном `deque` поддерживает основные операции стандартных последовательностей Python.\n",
        "\n",
        "* `Stack` - LIFO (last in first out) - гора тарелок\n",
        "\n",
        "* `Queue` - FIFO (first in first out) - очередь в банке\n",
        "\n",
        "* `Deque` - Двусторонняя очередь (можно добавлять и забирать как с конца, так и с начала)"
      ]
    },
    {
      "cell_type": "code",
      "execution_count": null,
      "metadata": {},
      "outputs": [],
      "source": [
        "from collections import deque\n",
        "\n",
        "\n",
        "s = ['ab', 'ab', 'bc', 'cd', 'ab']\n",
        "d = deque(s)\n",
        "print(d)\n",
        "\n",
        "print('-' * 30)\n",
        "\n",
        "for elem in d:\n",
        "    print(elem)\n",
        "\n",
        "print('-' * 30)\n",
        "\n",
        "# Добавление элементов\n",
        "\n",
        "d.append('aa')\n",
        "d.appendleft('dd')\n",
        "d.extend(['hh', 'pp'])\n",
        "d.extendleft(['hh', 'pp'])\n",
        "print(d)\n",
        "\n",
        "print('-' * 30)\n",
        "\n",
        "# Удаление элементов\n",
        "\n",
        "print(d.pop())\n",
        "print(d.popleft())\n",
        "print(d)\n",
        "\n",
        "print('-' * 30)\n",
        "\n",
        "# Обращение к элементам\n",
        "\n",
        "print(d[0])\n",
        "print(d[-2])\n",
        "print(d.count('hh'))\n",
        "\n",
        "print('-' * 30)\n",
        "\n",
        "# Смещение очереди влево-вправо\n",
        "\n",
        "d.rotate(1) # влево\n",
        "# 1-2-3-4-5 -> rotate(1) -> 2-3-4-5-1\n",
        "print(d)\n",
        "d.rotate(-2) # вправо\n",
        "# 1-2-3-4-5 -> rotate(-2) -> 4-5-1-2-3\n",
        "print(d)\n",
        "d.reverse() # перевернуть очередь\n",
        "print(d)\n",
        "\n",
        "print('-' * 30)\n",
        "\n",
        "# вставка и удаление\n",
        "\n",
        "d.insert(1, 'x')\n",
        "print(d)\n",
        "print(d.index('x'))\n",
        "d.remove('x')\n",
        "print(d)"
      ]
    },
    {
      "cell_type": "markdown",
      "metadata": {},
      "source": [
        "#### heapq"
      ]
    },
    {
      "cell_type": "code",
      "execution_count": null,
      "metadata": {},
      "outputs": [],
      "source": []
    },
    {
      "cell_type": "markdown",
      "metadata": {},
      "source": [
        "#### OrderedDict"
      ]
    },
    {
      "cell_type": "markdown",
      "metadata": {},
      "source": [
        "### Itertools"
      ]
    },
    {
      "cell_type": "markdown",
      "metadata": {},
      "source": []
    }
  ],
  "metadata": {
    "colab": {
      "provenance": []
    },
    "kernelspec": {
      "display_name": ".venv",
      "language": "python",
      "name": "python3"
    },
    "language_info": {
      "codemirror_mode": {
        "name": "ipython",
        "version": 3
      },
      "file_extension": ".py",
      "mimetype": "text/x-python",
      "name": "python",
      "nbconvert_exporter": "python",
      "pygments_lexer": "ipython3",
      "version": "3.13.5"
    }
  },
  "nbformat": 4,
  "nbformat_minor": 0
}
