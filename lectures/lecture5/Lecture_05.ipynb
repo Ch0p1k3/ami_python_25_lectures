{
  "cells": [
    {
      "cell_type": "markdown",
      "metadata": {
        "id": "vNu_IYXVKq7F"
      },
      "source": [
        "# Python-1, Лекция 5\n",
        "\n",
        "Лектор: Хайбулин Даниэль"
      ]
    }
  ],
  "metadata": {
    "colab": {
      "provenance": []
    },
    "kernelspec": {
      "display_name": "Python 3",
      "name": "python3"
    },
    "language_info": {
      "name": "python"
    }
  },
  "nbformat": 4,
  "nbformat_minor": 0
}
